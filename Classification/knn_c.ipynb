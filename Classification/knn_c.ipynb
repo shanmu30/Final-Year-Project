{
  "nbformat": 4,
  "nbformat_minor": 0,
  "metadata": {
    "colab": {
      "name": "second phase knnmethod",
      "provenance": []
    },
    "kernelspec": {
      "name": "python3",
      "display_name": "Python 3"
    }
  },
  "cells": [
    {
      "cell_type": "code",
      "metadata": {
        "id": "MEcmXC_4wi0X",
        "colab_type": "code",
        "outputId": "94022a61-5196-4d9b-88eb-a8a89db90561",
        "colab": {
          "base_uri": "https://localhost:8080/",
          "height": 122
        }
      },
      "source": [
        "from google.colab import drive\n",
        "drive.mount('/content/gdrive')"
      ],
      "execution_count": 0,
      "outputs": [
        {
          "output_type": "stream",
          "text": [
            "Go to this URL in a browser: https://accounts.google.com/o/oauth2/auth?client_id=947318989803-6bn6qk8qdgf4n4g3pfee6491hc0brc4i.apps.googleusercontent.com&redirect_uri=urn%3aietf%3awg%3aoauth%3a2.0%3aoob&response_type=code&scope=email%20https%3a%2f%2fwww.googleapis.com%2fauth%2fdocs.test%20https%3a%2f%2fwww.googleapis.com%2fauth%2fdrive%20https%3a%2f%2fwww.googleapis.com%2fauth%2fdrive.photos.readonly%20https%3a%2f%2fwww.googleapis.com%2fauth%2fpeopleapi.readonly\n",
            "\n",
            "Enter your authorization code:\n",
            "··········\n",
            "Mounted at /content/gdrive\n"
          ],
          "name": "stdout"
        }
      ]
    },
    {
      "cell_type": "code",
      "metadata": {
        "id": "bRO0HG9Dwpao",
        "colab_type": "code",
        "outputId": "45c924c7-9d2d-4611-a59a-505ce8230c08",
        "colab": {
          "base_uri": "https://localhost:8080/",
          "height": 408
        }
      },
      "source": [
        "import numpy as np # linear algebra\n",
        "import pandas as pd # data processing, CSV file I/O (e.g. pd.read_csv)\n",
        "\n",
        "# Input data files are available in the \"../input/\" directory.\n",
        "# For example, running this (by clicking run or pressing Shift+Enter) will list all files under the input directory\n",
        "\n",
        "import os\n",
        "for dirname, _, filenames in os.walk('/content/gdrive/My Drive/Colab Notebooks/KNN'):\n",
        "    for filename in filenames:\n",
        "        print(os.path.join(dirname, filename))\n"
      ],
      "execution_count": 0,
      "outputs": [
        {
          "output_type": "stream",
          "text": [
            "/content/gdrive/My Drive/Colab Notebooks/KNN/bt_dataset_t3.csv\n",
            "/content/gdrive/My Drive/Colab Notebooks/KNN/dataall/glcmfeatures.csv\n",
            "/content/gdrive/My Drive/Colab Notebooks/KNN/dataall/Haraliclfeature.csv\n",
            "/content/gdrive/My Drive/Colab Notebooks/KNN/dataall/gldm.csv\n",
            "/content/gdrive/My Drive/Colab Notebooks/KNN/dataall/lbp.csv\n",
            "/content/gdrive/My Drive/Colab Notebooks/KNN/dataall/combinedharalicklbpglcmgldmdata.csv\n",
            "/content/gdrive/My Drive/Colab Notebooks/KNN/dataall/Result.odt\n",
            "/content/gdrive/My Drive/Colab Notebooks/KNN/dataall/lbp.JPG\n",
            "/content/gdrive/My Drive/Colab Notebooks/KNN/dataall/glcmfeatures - glcmfeatures.csv\n",
            "/content/gdrive/My Drive/Colab Notebooks/KNN/dataall/glcmfeatures.gsheet\n",
            "/content/gdrive/My Drive/Colab Notebooks/KNN/dataall/Haraliclfeature - Haraliclfeature.csv\n",
            "/content/gdrive/My Drive/Colab Notebooks/KNN/dataall/lbp - lbp.csv\n",
            "/content/gdrive/My Drive/Colab Notebooks/KNN/dataall/GLCM_Haralick - Sheet1.csv\n",
            "/content/gdrive/My Drive/Colab Notebooks/KNN/dataall/Haraliclfeature.gsheet\n",
            "/content/gdrive/My Drive/Colab Notebooks/KNN/dataall/Haraliclfeature - Haraliclfeature.gsheet\n",
            "/content/gdrive/My Drive/Colab Notebooks/KNN/dataall/glcmfeatures - glcmfeatures.gsheet\n",
            "/content/gdrive/My Drive/Colab Notebooks/KNN/dataall/lbp.gsheet\n",
            "/content/gdrive/My Drive/Colab Notebooks/KNN/dataall/GLCM_Haralick - Sheet1.gsheet\n",
            "/content/gdrive/My Drive/Colab Notebooks/KNN/newdata/glcmfeatures - glcmfeatures.csv\n",
            "/content/gdrive/My Drive/Colab Notebooks/KNN/newdata/Haraliclfeature - Haraliclfeature.csv\n",
            "/content/gdrive/My Drive/Colab Notebooks/KNN/newdata/lbp - lbp.csv\n",
            "/content/gdrive/My Drive/Colab Notebooks/KNN/newdata/glcmfeatures - glcmfeatures.gsheet\n",
            "/content/gdrive/My Drive/Colab Notebooks/KNN/newdata/Haraliclfeature - Haraliclfeature.gsheet\n"
          ],
          "name": "stdout"
        }
      ]
    },
    {
      "cell_type": "code",
      "metadata": {
        "id": "2aGq3k7LxK0W",
        "colab_type": "code",
        "colab": {}
      },
      "source": [
        "df= pd.read_csv(\"/content/gdrive/My Drive/Colab Notebooks/KNN/newdata/Haraliclfeature - Haraliclfeature.csv\")"
      ],
      "execution_count": 0,
      "outputs": []
    },
    {
      "cell_type": "code",
      "metadata": {
        "id": "9dVbdwNGxNvo",
        "colab_type": "code",
        "outputId": "ce31019c-0e6a-4c46-ef3b-f71f5b460fff",
        "colab": {
          "base_uri": "https://localhost:8080/",
          "height": 275
        }
      },
      "source": [
        "df.head(5)"
      ],
      "execution_count": 0,
      "outputs": [
        {
          "output_type": "execute_result",
          "data": {
            "text/html": [
              "<div>\n",
              "<style scoped>\n",
              "    .dataframe tbody tr th:only-of-type {\n",
              "        vertical-align: middle;\n",
              "    }\n",
              "\n",
              "    .dataframe tbody tr th {\n",
              "        vertical-align: top;\n",
              "    }\n",
              "\n",
              "    .dataframe thead th {\n",
              "        text-align: right;\n",
              "    }\n",
              "</style>\n",
              "<table border=\"1\" class=\"dataframe\">\n",
              "  <thead>\n",
              "    <tr style=\"text-align: right;\">\n",
              "      <th></th>\n",
              "      <th>image</th>\n",
              "      <th>Energy</th>\n",
              "      <th>Contrast</th>\n",
              "      <th>Correlation</th>\n",
              "      <th>Variance</th>\n",
              "      <th>Inverse Difference Moment</th>\n",
              "      <th>Sum Average</th>\n",
              "      <th>Sum Variance</th>\n",
              "      <th>Sum Entropy</th>\n",
              "      <th>Entropy</th>\n",
              "      <th>Difference Variance</th>\n",
              "      <th>Difference Entropy</th>\n",
              "      <th>Information Measure of Correlation I</th>\n",
              "      <th>Information Measure of Correlation II</th>\n",
              "      <th>Maximal Correlation Coefficient</th>\n",
              "      <th>class</th>\n",
              "    </tr>\n",
              "  </thead>\n",
              "  <tbody>\n",
              "    <tr>\n",
              "      <th>0</th>\n",
              "      <td>Y1.jpg'</td>\n",
              "      <td>0.194114</td>\n",
              "      <td>0.356299</td>\n",
              "      <td>0.957323</td>\n",
              "      <td>13.254691</td>\n",
              "      <td>0.885606</td>\n",
              "      <td>6.057948</td>\n",
              "      <td>32.402759</td>\n",
              "      <td>2.050282</td>\n",
              "      <td>3.324539</td>\n",
              "      <td>0.309455</td>\n",
              "      <td>0.624194</td>\n",
              "      <td>-0.616286</td>\n",
              "      <td>0.973783</td>\n",
              "      <td>0.971060</td>\n",
              "      <td>1</td>\n",
              "    </tr>\n",
              "    <tr>\n",
              "      <th>1</th>\n",
              "      <td>Y10.jpg'</td>\n",
              "      <td>0.108605</td>\n",
              "      <td>0.933317</td>\n",
              "      <td>0.891477</td>\n",
              "      <td>19.182044</td>\n",
              "      <td>0.816713</td>\n",
              "      <td>7.746678</td>\n",
              "      <td>45.221821</td>\n",
              "      <td>2.365712</td>\n",
              "      <td>4.053379</td>\n",
              "      <td>0.836614</td>\n",
              "      <td>0.870402</td>\n",
              "      <td>-0.506407</td>\n",
              "      <td>0.967463</td>\n",
              "      <td>0.928545</td>\n",
              "      <td>1</td>\n",
              "    </tr>\n",
              "    <tr>\n",
              "      <th>2</th>\n",
              "      <td>Y100.JPG'</td>\n",
              "      <td>0.206609</td>\n",
              "      <td>0.410310</td>\n",
              "      <td>0.871081</td>\n",
              "      <td>6.724965</td>\n",
              "      <td>0.880240</td>\n",
              "      <td>4.562746</td>\n",
              "      <td>13.468405</td>\n",
              "      <td>1.821704</td>\n",
              "      <td>3.056145</td>\n",
              "      <td>0.358975</td>\n",
              "      <td>0.651731</td>\n",
              "      <td>-0.522880</td>\n",
              "      <td>0.940796</td>\n",
              "      <td>0.904435</td>\n",
              "      <td>1</td>\n",
              "    </tr>\n",
              "    <tr>\n",
              "      <th>3</th>\n",
              "      <td>Y101.jpg'</td>\n",
              "      <td>0.279497</td>\n",
              "      <td>0.668430</td>\n",
              "      <td>0.842230</td>\n",
              "      <td>7.286611</td>\n",
              "      <td>0.884960</td>\n",
              "      <td>4.578002</td>\n",
              "      <td>16.413141</td>\n",
              "      <td>1.644049</td>\n",
              "      <td>2.789167</td>\n",
              "      <td>0.609190</td>\n",
              "      <td>0.665433</td>\n",
              "      <td>-0.540932</td>\n",
              "      <td>0.934652</td>\n",
              "      <td>0.901414</td>\n",
              "      <td>1</td>\n",
              "    </tr>\n",
              "    <tr>\n",
              "      <th>4</th>\n",
              "      <td>Y102.jpg'</td>\n",
              "      <td>0.155699</td>\n",
              "      <td>0.458784</td>\n",
              "      <td>0.911544</td>\n",
              "      <td>10.786904</td>\n",
              "      <td>0.858778</td>\n",
              "      <td>5.756152</td>\n",
              "      <td>23.367080</td>\n",
              "      <td>2.088353</td>\n",
              "      <td>3.506159</td>\n",
              "      <td>0.396561</td>\n",
              "      <td>0.716022</td>\n",
              "      <td>-0.529835</td>\n",
              "      <td>0.959227</td>\n",
              "      <td>0.932040</td>\n",
              "      <td>1</td>\n",
              "    </tr>\n",
              "  </tbody>\n",
              "</table>\n",
              "</div>"
            ],
            "text/plain": [
              "       image    Energy  ...  Maximal Correlation Coefficient  class\n",
              "0    Y1.jpg'  0.194114  ...                         0.971060      1\n",
              "1   Y10.jpg'  0.108605  ...                         0.928545      1\n",
              "2  Y100.JPG'  0.206609  ...                         0.904435      1\n",
              "3  Y101.jpg'  0.279497  ...                         0.901414      1\n",
              "4  Y102.jpg'  0.155699  ...                         0.932040      1\n",
              "\n",
              "[5 rows x 16 columns]"
            ]
          },
          "metadata": {
            "tags": []
          },
          "execution_count": 8
        }
      ]
    },
    {
      "cell_type": "code",
      "metadata": {
        "id": "cyt0gKcqxQ5o",
        "colab_type": "code",
        "colab": {}
      },
      "source": [
        "df = df.replace([np.inf, -np.inf], np.nan)\n",
        "df = df.fillna(df.mean())\n",
        "y = df['class']\n",
        "X = df.drop(['class','image'], axis=1)"
      ],
      "execution_count": 0,
      "outputs": []
    },
    {
      "cell_type": "code",
      "metadata": {
        "id": "OXaWL-67xWql",
        "colab_type": "code",
        "colab": {}
      },
      "source": [
        "from sklearn.model_selection import train_test_split\n",
        "X_train, X_test,  y_train, y_test = train_test_split(X, y, test_size=0.30)"
      ],
      "execution_count": 0,
      "outputs": []
    },
    {
      "cell_type": "code",
      "metadata": {
        "id": "fscqYF9LxZN1",
        "colab_type": "code",
        "colab": {}
      },
      "source": [
        "from sklearn.pipeline import Pipeline\n",
        "from sklearn.model_selection import GridSearchCV\n",
        "from sklearn.preprocessing import StandardScaler\n",
        "from sklearn.decomposition import PCA\n",
        "from sklearn.svm import SVC"
      ],
      "execution_count": 0,
      "outputs": []
    },
    {
      "cell_type": "code",
      "metadata": {
        "id": "6SXREj3gxaPV",
        "colab_type": "code",
        "colab": {}
      },
      "source": [
        "steps = [('scaler', StandardScaler()),('pca',PCA()),('clf',SVC(kernel='rbf'))]\n",
        "parameters = {\n",
        "    'pca__n_components' :[2,3,4],\n",
        "    'clf__C':[0.001,0.1,0.01,1,10,100,10e5],\n",
        "    'clf__gamma':[1,0.1,0.01,0.001]\n",
        "}\n",
        "pipeline = Pipeline(steps)"
      ],
      "execution_count": 0,
      "outputs": []
    },
    {
      "cell_type": "code",
      "metadata": {
        "id": "TbY9_V4dxev-",
        "colab_type": "code",
        "outputId": "c7b07fea-04b6-4541-bb2a-c075c361e2b0",
        "colab": {
          "base_uri": "https://localhost:8080/",
          "height": 51
        }
      },
      "source": [
        "cv=10\n",
        "grid = GridSearchCV(pipeline,param_grid=parameters,cv=cv)\n",
        "grid.fit(X_train,y_train)\n",
        "print(\"Score for %d fold : = %f\"%(cv,grid.score(X_test,y_test)))\n",
        "print(\"Parameters : \",grid.best_params_)"
      ],
      "execution_count": 0,
      "outputs": [
        {
          "output_type": "stream",
          "text": [
            "Score for 10 fold : = 0.797297\n",
            "Parameters :  {'clf__C': 1000000.0, 'clf__gamma': 0.001, 'pca__n_components': 3}\n"
          ],
          "name": "stdout"
        }
      ]
    },
    {
      "cell_type": "code",
      "metadata": {
        "id": "XPIo3O5Bxhns",
        "colab_type": "code",
        "outputId": "90c7064c-4d76-43cb-a2e0-1b360ecd4d0b",
        "colab": {
          "base_uri": "https://localhost:8080/",
          "height": 34
        }
      },
      "source": [
        "y_pred_test = grid.predict(X_test)\n",
        "print(\"Accuracy : \", grid.best_score_*100)\n"
      ],
      "execution_count": 0,
      "outputs": [
        {
          "output_type": "stream",
          "text": [
            "Accuracy :  73.23529411764706\n"
          ],
          "name": "stdout"
        }
      ]
    }
  ]
}