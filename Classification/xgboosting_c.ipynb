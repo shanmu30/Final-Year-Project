{
  "nbformat": 4,
  "nbformat_minor": 0,
  "metadata": {
    "colab": {
      "name": "BT_xg.ipynb",
      "provenance": []
    },
    "kernelspec": {
      "name": "python3",
      "display_name": "Python 3"
    }
  },
  "cells": [
    {
      "cell_type": "code",
      "metadata": {
        "id": "ueCE1zE4pdnj",
        "colab_type": "code",
        "outputId": "271aa56c-542e-4dac-88a6-ea9a1904e79e",
        "colab": {
          "base_uri": "https://localhost:8080/",
          "height": 122
        }
      },
      "source": [
        "from google.colab import drive\n",
        "drive.mount('/content/gdrive')"
      ],
      "execution_count": 0,
      "outputs": [
        {
          "output_type": "stream",
          "text": [
            "Go to this URL in a browser: https://accounts.google.com/o/oauth2/auth?client_id=947318989803-6bn6qk8qdgf4n4g3pfee6491hc0brc4i.apps.googleusercontent.com&redirect_uri=urn%3aietf%3awg%3aoauth%3a2.0%3aoob&response_type=code&scope=email%20https%3a%2f%2fwww.googleapis.com%2fauth%2fdocs.test%20https%3a%2f%2fwww.googleapis.com%2fauth%2fdrive%20https%3a%2f%2fwww.googleapis.com%2fauth%2fdrive.photos.readonly%20https%3a%2f%2fwww.googleapis.com%2fauth%2fpeopleapi.readonly\n",
            "\n",
            "Enter your authorization code:\n",
            "··········\n",
            "Mounted at /content/gdrive\n"
          ],
          "name": "stdout"
        }
      ]
    },
    {
      "cell_type": "code",
      "metadata": {
        "id": "Xs2Bnr230d_0",
        "colab_type": "code",
        "outputId": "c481b7e6-1862-457f-ef9a-7344a87828e2",
        "colab": {
          "base_uri": "https://localhost:8080/",
          "height": 71
        }
      },
      "source": [
        "import pandas as pd\n",
        "import numpy as np\n",
        "import seaborn as sns"
      ],
      "execution_count": 0,
      "outputs": [
        {
          "output_type": "stream",
          "text": [
            "/usr/local/lib/python3.6/dist-packages/statsmodels/tools/_testing.py:19: FutureWarning: pandas.util.testing is deprecated. Use the functions in the public API at pandas.testing instead.\n",
            "  import pandas.util.testing as tm\n"
          ],
          "name": "stderr"
        }
      ]
    },
    {
      "cell_type": "code",
      "metadata": {
        "id": "8wjBk5fk2-sd",
        "colab_type": "code",
        "colab": {}
      },
      "source": [
        "data=pd.read_csv('/content/gdrive/My Drive/Colab Notebooks/KNN/dataall/glcmfeatures - glcmfeatures.csv')"
      ],
      "execution_count": 0,
      "outputs": []
    },
    {
      "cell_type": "code",
      "metadata": {
        "id": "efsPP4kS5IG7",
        "colab_type": "code",
        "colab": {}
      },
      "source": [
        "data1=pd.read_csv('/content/gdrive/My Drive/Colab Notebooks/KNN/dataall/Haraliclfeature - Haraliclfeature.csv')"
      ],
      "execution_count": 0,
      "outputs": []
    },
    {
      "cell_type": "code",
      "metadata": {
        "id": "UTupJQ5p5TRa",
        "colab_type": "code",
        "outputId": "e5131771-f8e8-4f6d-cb66-1a7531f9a96b",
        "colab": {
          "base_uri": "https://localhost:8080/",
          "height": 275
        }
      },
      "source": [
        "data1.head()"
      ],
      "execution_count": 0,
      "outputs": [
        {
          "output_type": "execute_result",
          "data": {
            "text/html": [
              "<div>\n",
              "<style scoped>\n",
              "    .dataframe tbody tr th:only-of-type {\n",
              "        vertical-align: middle;\n",
              "    }\n",
              "\n",
              "    .dataframe tbody tr th {\n",
              "        vertical-align: top;\n",
              "    }\n",
              "\n",
              "    .dataframe thead th {\n",
              "        text-align: right;\n",
              "    }\n",
              "</style>\n",
              "<table border=\"1\" class=\"dataframe\">\n",
              "  <thead>\n",
              "    <tr style=\"text-align: right;\">\n",
              "      <th></th>\n",
              "      <th>image</th>\n",
              "      <th>Energy</th>\n",
              "      <th>Contrast</th>\n",
              "      <th>Correlation</th>\n",
              "      <th>Variance</th>\n",
              "      <th>Inverse Difference Moment</th>\n",
              "      <th>Sum Average</th>\n",
              "      <th>Sum Variance</th>\n",
              "      <th>Sum Entropy</th>\n",
              "      <th>Entropy</th>\n",
              "      <th>Difference Variance</th>\n",
              "      <th>Difference Entropy</th>\n",
              "      <th>Information Measure of Correlation I</th>\n",
              "      <th>Information Measure of Correlation II</th>\n",
              "      <th>Maximal Correlation Coefficient</th>\n",
              "      <th>class</th>\n",
              "    </tr>\n",
              "  </thead>\n",
              "  <tbody>\n",
              "    <tr>\n",
              "      <th>0</th>\n",
              "      <td>Y1.jpg'</td>\n",
              "      <td>0.194114</td>\n",
              "      <td>0.356299</td>\n",
              "      <td>0.957323</td>\n",
              "      <td>13.254691</td>\n",
              "      <td>0.885606</td>\n",
              "      <td>6.057948</td>\n",
              "      <td>32.402759</td>\n",
              "      <td>2.050282</td>\n",
              "      <td>3.324539</td>\n",
              "      <td>0.309455</td>\n",
              "      <td>0.624194</td>\n",
              "      <td>-0.616286</td>\n",
              "      <td>0.973783</td>\n",
              "      <td>0.971060</td>\n",
              "      <td>1</td>\n",
              "    </tr>\n",
              "    <tr>\n",
              "      <th>1</th>\n",
              "      <td>Y10.jpg'</td>\n",
              "      <td>0.108605</td>\n",
              "      <td>0.933317</td>\n",
              "      <td>0.891477</td>\n",
              "      <td>19.182044</td>\n",
              "      <td>0.816713</td>\n",
              "      <td>7.746678</td>\n",
              "      <td>45.221821</td>\n",
              "      <td>2.365712</td>\n",
              "      <td>4.053379</td>\n",
              "      <td>0.836614</td>\n",
              "      <td>0.870402</td>\n",
              "      <td>-0.506407</td>\n",
              "      <td>0.967463</td>\n",
              "      <td>0.928545</td>\n",
              "      <td>1</td>\n",
              "    </tr>\n",
              "    <tr>\n",
              "      <th>2</th>\n",
              "      <td>Y100.JPG'</td>\n",
              "      <td>0.206609</td>\n",
              "      <td>0.410310</td>\n",
              "      <td>0.871081</td>\n",
              "      <td>6.724965</td>\n",
              "      <td>0.880240</td>\n",
              "      <td>4.562746</td>\n",
              "      <td>13.468405</td>\n",
              "      <td>1.821704</td>\n",
              "      <td>3.056145</td>\n",
              "      <td>0.358975</td>\n",
              "      <td>0.651731</td>\n",
              "      <td>-0.522880</td>\n",
              "      <td>0.940796</td>\n",
              "      <td>0.904435</td>\n",
              "      <td>1</td>\n",
              "    </tr>\n",
              "    <tr>\n",
              "      <th>3</th>\n",
              "      <td>Y101.jpg'</td>\n",
              "      <td>0.279497</td>\n",
              "      <td>0.668430</td>\n",
              "      <td>0.842230</td>\n",
              "      <td>7.286611</td>\n",
              "      <td>0.884960</td>\n",
              "      <td>4.578002</td>\n",
              "      <td>16.413141</td>\n",
              "      <td>1.644049</td>\n",
              "      <td>2.789167</td>\n",
              "      <td>0.609190</td>\n",
              "      <td>0.665433</td>\n",
              "      <td>-0.540932</td>\n",
              "      <td>0.934652</td>\n",
              "      <td>0.901414</td>\n",
              "      <td>1</td>\n",
              "    </tr>\n",
              "    <tr>\n",
              "      <th>4</th>\n",
              "      <td>Y102.jpg'</td>\n",
              "      <td>0.155699</td>\n",
              "      <td>0.458784</td>\n",
              "      <td>0.911544</td>\n",
              "      <td>10.786904</td>\n",
              "      <td>0.858778</td>\n",
              "      <td>5.756152</td>\n",
              "      <td>23.367080</td>\n",
              "      <td>2.088353</td>\n",
              "      <td>3.506159</td>\n",
              "      <td>0.396561</td>\n",
              "      <td>0.716022</td>\n",
              "      <td>-0.529835</td>\n",
              "      <td>0.959227</td>\n",
              "      <td>0.932040</td>\n",
              "      <td>1</td>\n",
              "    </tr>\n",
              "  </tbody>\n",
              "</table>\n",
              "</div>"
            ],
            "text/plain": [
              "       image    Energy  ...  Maximal Correlation Coefficient  class\n",
              "0    Y1.jpg'  0.194114  ...                         0.971060      1\n",
              "1   Y10.jpg'  0.108605  ...                         0.928545      1\n",
              "2  Y100.JPG'  0.206609  ...                         0.904435      1\n",
              "3  Y101.jpg'  0.279497  ...                         0.901414      1\n",
              "4  Y102.jpg'  0.155699  ...                         0.932040      1\n",
              "\n",
              "[5 rows x 16 columns]"
            ]
          },
          "metadata": {
            "tags": []
          },
          "execution_count": 5
        }
      ]
    },
    {
      "cell_type": "code",
      "metadata": {
        "id": "-UH0PAkC3N2T",
        "colab_type": "code",
        "outputId": "02f49d3c-1401-4db9-aa2c-150257e2b670",
        "colab": {
          "base_uri": "https://localhost:8080/",
          "height": 224
        }
      },
      "source": [
        "data.head()"
      ],
      "execution_count": 0,
      "outputs": [
        {
          "output_type": "execute_result",
          "data": {
            "text/html": [
              "<div>\n",
              "<style scoped>\n",
              "    .dataframe tbody tr th:only-of-type {\n",
              "        vertical-align: middle;\n",
              "    }\n",
              "\n",
              "    .dataframe tbody tr th {\n",
              "        vertical-align: top;\n",
              "    }\n",
              "\n",
              "    .dataframe thead th {\n",
              "        text-align: right;\n",
              "    }\n",
              "</style>\n",
              "<table border=\"1\" class=\"dataframe\">\n",
              "  <thead>\n",
              "    <tr style=\"text-align: right;\">\n",
              "      <th></th>\n",
              "      <th>Image</th>\n",
              "      <th>contrast</th>\n",
              "      <th>corelation</th>\n",
              "      <th>energy</th>\n",
              "      <th>entropy</th>\n",
              "      <th>homogenity</th>\n",
              "      <th>mean</th>\n",
              "      <th>RMS</th>\n",
              "      <th>standard_deviation</th>\n",
              "      <th>Target</th>\n",
              "    </tr>\n",
              "  </thead>\n",
              "  <tbody>\n",
              "    <tr>\n",
              "      <th>0</th>\n",
              "      <td>Y1.jpg'</td>\n",
              "      <td>1.050471</td>\n",
              "      <td>0.874184</td>\n",
              "      <td>0.165066</td>\n",
              "      <td>0.000000</td>\n",
              "      <td>0.828313</td>\n",
              "      <td>504</td>\n",
              "      <td>1063.926968</td>\n",
              "      <td>1570.998489</td>\n",
              "      <td>1</td>\n",
              "    </tr>\n",
              "    <tr>\n",
              "      <th>1</th>\n",
              "      <td>Y10.jpg'</td>\n",
              "      <td>2.265129</td>\n",
              "      <td>0.737668</td>\n",
              "      <td>0.089364</td>\n",
              "      <td>0.000000</td>\n",
              "      <td>0.750672</td>\n",
              "      <td>504</td>\n",
              "      <td>917.004937</td>\n",
              "      <td>1103.545254</td>\n",
              "      <td>1</td>\n",
              "    </tr>\n",
              "    <tr>\n",
              "      <th>2</th>\n",
              "      <td>Y100.JPG'</td>\n",
              "      <td>0.758309</td>\n",
              "      <td>0.761694</td>\n",
              "      <td>0.183233</td>\n",
              "      <td>0.543564</td>\n",
              "      <td>0.840091</td>\n",
              "      <td>504</td>\n",
              "      <td>1073.485214</td>\n",
              "      <td>1663.750267</td>\n",
              "      <td>1</td>\n",
              "    </tr>\n",
              "    <tr>\n",
              "      <th>3</th>\n",
              "      <td>Y101.jpg'</td>\n",
              "      <td>1.502604</td>\n",
              "      <td>0.646009</td>\n",
              "      <td>0.259912</td>\n",
              "      <td>0.000000</td>\n",
              "      <td>0.862759</td>\n",
              "      <td>504</td>\n",
              "      <td>1152.458862</td>\n",
              "      <td>2008.587777</td>\n",
              "      <td>1</td>\n",
              "    </tr>\n",
              "    <tr>\n",
              "      <th>4</th>\n",
              "      <td>Y102.jpg'</td>\n",
              "      <td>0.786768</td>\n",
              "      <td>0.848084</td>\n",
              "      <td>0.138147</td>\n",
              "      <td>0.448864</td>\n",
              "      <td>0.815127</td>\n",
              "      <td>504</td>\n",
              "      <td>1022.858819</td>\n",
              "      <td>1422.482460</td>\n",
              "      <td>1</td>\n",
              "    </tr>\n",
              "  </tbody>\n",
              "</table>\n",
              "</div>"
            ],
            "text/plain": [
              "       Image  contrast  corelation  ...          RMS  standard_deviation  Target\n",
              "0    Y1.jpg'  1.050471    0.874184  ...  1063.926968         1570.998489       1\n",
              "1   Y10.jpg'  2.265129    0.737668  ...   917.004937         1103.545254       1\n",
              "2  Y100.JPG'  0.758309    0.761694  ...  1073.485214         1663.750267       1\n",
              "3  Y101.jpg'  1.502604    0.646009  ...  1152.458862         2008.587777       1\n",
              "4  Y102.jpg'  0.786768    0.848084  ...  1022.858819         1422.482460       1\n",
              "\n",
              "[5 rows x 10 columns]"
            ]
          },
          "metadata": {
            "tags": []
          },
          "execution_count": 6
        }
      ]
    },
    {
      "cell_type": "code",
      "metadata": {
        "id": "sPHcn6Mdtluf",
        "colab_type": "code",
        "outputId": "2baf2933-7ecf-4d43-e9d0-2356db9615cf",
        "colab": {
          "base_uri": "https://localhost:8080/",
          "height": 224
        }
      },
      "source": [
        "data.head()"
      ],
      "execution_count": 0,
      "outputs": [
        {
          "output_type": "execute_result",
          "data": {
            "text/html": [
              "<div>\n",
              "<style scoped>\n",
              "    .dataframe tbody tr th:only-of-type {\n",
              "        vertical-align: middle;\n",
              "    }\n",
              "\n",
              "    .dataframe tbody tr th {\n",
              "        vertical-align: top;\n",
              "    }\n",
              "\n",
              "    .dataframe thead th {\n",
              "        text-align: right;\n",
              "    }\n",
              "</style>\n",
              "<table border=\"1\" class=\"dataframe\">\n",
              "  <thead>\n",
              "    <tr style=\"text-align: right;\">\n",
              "      <th></th>\n",
              "      <th>Image</th>\n",
              "      <th>contrast</th>\n",
              "      <th>corelation</th>\n",
              "      <th>energy</th>\n",
              "      <th>entropy</th>\n",
              "      <th>homogenity</th>\n",
              "      <th>mean</th>\n",
              "      <th>RMS</th>\n",
              "      <th>standard_deviation</th>\n",
              "      <th>Target</th>\n",
              "    </tr>\n",
              "  </thead>\n",
              "  <tbody>\n",
              "    <tr>\n",
              "      <th>0</th>\n",
              "      <td>Y1.jpg'</td>\n",
              "      <td>1.050471</td>\n",
              "      <td>0.874184</td>\n",
              "      <td>0.165066</td>\n",
              "      <td>0.000000</td>\n",
              "      <td>0.828313</td>\n",
              "      <td>504</td>\n",
              "      <td>1063.926968</td>\n",
              "      <td>1570.998489</td>\n",
              "      <td>1</td>\n",
              "    </tr>\n",
              "    <tr>\n",
              "      <th>1</th>\n",
              "      <td>Y10.jpg'</td>\n",
              "      <td>2.265129</td>\n",
              "      <td>0.737668</td>\n",
              "      <td>0.089364</td>\n",
              "      <td>0.000000</td>\n",
              "      <td>0.750672</td>\n",
              "      <td>504</td>\n",
              "      <td>917.004937</td>\n",
              "      <td>1103.545254</td>\n",
              "      <td>1</td>\n",
              "    </tr>\n",
              "    <tr>\n",
              "      <th>2</th>\n",
              "      <td>Y100.JPG'</td>\n",
              "      <td>0.758309</td>\n",
              "      <td>0.761694</td>\n",
              "      <td>0.183233</td>\n",
              "      <td>0.543564</td>\n",
              "      <td>0.840091</td>\n",
              "      <td>504</td>\n",
              "      <td>1073.485214</td>\n",
              "      <td>1663.750267</td>\n",
              "      <td>1</td>\n",
              "    </tr>\n",
              "    <tr>\n",
              "      <th>3</th>\n",
              "      <td>Y101.jpg'</td>\n",
              "      <td>1.502604</td>\n",
              "      <td>0.646009</td>\n",
              "      <td>0.259912</td>\n",
              "      <td>0.000000</td>\n",
              "      <td>0.862759</td>\n",
              "      <td>504</td>\n",
              "      <td>1152.458862</td>\n",
              "      <td>2008.587777</td>\n",
              "      <td>1</td>\n",
              "    </tr>\n",
              "    <tr>\n",
              "      <th>4</th>\n",
              "      <td>Y102.jpg'</td>\n",
              "      <td>0.786768</td>\n",
              "      <td>0.848084</td>\n",
              "      <td>0.138147</td>\n",
              "      <td>0.448864</td>\n",
              "      <td>0.815127</td>\n",
              "      <td>504</td>\n",
              "      <td>1022.858819</td>\n",
              "      <td>1422.482460</td>\n",
              "      <td>1</td>\n",
              "    </tr>\n",
              "  </tbody>\n",
              "</table>\n",
              "</div>"
            ],
            "text/plain": [
              "       Image  contrast  corelation  ...          RMS  standard_deviation  Target\n",
              "0    Y1.jpg'  1.050471    0.874184  ...  1063.926968         1570.998489       1\n",
              "1   Y10.jpg'  2.265129    0.737668  ...   917.004937         1103.545254       1\n",
              "2  Y100.JPG'  0.758309    0.761694  ...  1073.485214         1663.750267       1\n",
              "3  Y101.jpg'  1.502604    0.646009  ...  1152.458862         2008.587777       1\n",
              "4  Y102.jpg'  0.786768    0.848084  ...  1022.858819         1422.482460       1\n",
              "\n",
              "[5 rows x 10 columns]"
            ]
          },
          "metadata": {
            "tags": []
          },
          "execution_count": 7
        }
      ]
    },
    {
      "cell_type": "code",
      "metadata": {
        "id": "bAVNj9hG3QtI",
        "colab_type": "code",
        "outputId": "5e83afa4-b2c2-4047-e9f0-6380a7754a12",
        "colab": {
          "base_uri": "https://localhost:8080/",
          "height": 34
        }
      },
      "source": [
        "type(data)"
      ],
      "execution_count": 0,
      "outputs": [
        {
          "output_type": "execute_result",
          "data": {
            "text/plain": [
              "pandas.core.frame.DataFrame"
            ]
          },
          "metadata": {
            "tags": []
          },
          "execution_count": 8
        }
      ]
    },
    {
      "cell_type": "code",
      "metadata": {
        "id": "KJj1bt003WYz",
        "colab_type": "code",
        "outputId": "e985d7a4-4652-4f40-de7a-a0e8d82900f3",
        "colab": {
          "base_uri": "https://localhost:8080/",
          "height": 68
        }
      },
      "source": [
        "data['Target'].value_counts()"
      ],
      "execution_count": 0,
      "outputs": [
        {
          "output_type": "execute_result",
          "data": {
            "text/plain": [
              "1    154\n",
              "0     92\n",
              "Name: Target, dtype: int64"
            ]
          },
          "metadata": {
            "tags": []
          },
          "execution_count": 16
        }
      ]
    },
    {
      "cell_type": "code",
      "metadata": {
        "id": "CzQdl9so47AS",
        "colab_type": "code",
        "outputId": "28bb7c84-da64-4ec3-8b2c-f0623dd1dfbd",
        "colab": {
          "base_uri": "https://localhost:8080/",
          "height": 368
        }
      },
      "source": [
        "sns.heatmap(data.isnull(),yticklabels=False,cbar=False)"
      ],
      "execution_count": 0,
      "outputs": [
        {
          "output_type": "execute_result",
          "data": {
            "text/plain": [
              "<matplotlib.axes._subplots.AxesSubplot at 0x7f8f21fd6470>"
            ]
          },
          "metadata": {
            "tags": []
          },
          "execution_count": 20
        },
        {
          "output_type": "display_data",
          "data": {
            "image/png": "[encoded data removed]",
            "text/plain": [
              "<Figure size 432x288 with 1 Axes>"
            ]
          },
          "metadata": {
            "tags": [],
            "needs_background": "light"
          }
        }
      ]
    },
    {
      "cell_type": "code",
      "metadata": {
        "id": "I7t9hiFU4kIT",
        "colab_type": "code",
        "outputId": "b58044d2-5b0b-49a2-e61d-0a599d615ff2",
        "colab": {
          "base_uri": "https://localhost:8080/",
          "height": 34
        }
      },
      "source": [
        "data.shape"
      ],
      "execution_count": 0,
      "outputs": [
        {
          "output_type": "execute_result",
          "data": {
            "text/plain": [
              "(246, 10)"
            ]
          },
          "metadata": {
            "tags": []
          },
          "execution_count": 21
        }
      ]
    },
    {
      "cell_type": "code",
      "metadata": {
        "id": "neYsVeeo5Xpi",
        "colab_type": "code",
        "outputId": "8d1b45f1-64a8-4815-ec75-5edca9748a76",
        "colab": {
          "base_uri": "https://localhost:8080/",
          "height": 34
        }
      },
      "source": [
        "data1.shape"
      ],
      "execution_count": 0,
      "outputs": [
        {
          "output_type": "execute_result",
          "data": {
            "text/plain": [
              "(246, 16)"
            ]
          },
          "metadata": {
            "tags": []
          },
          "execution_count": 22
        }
      ]
    },
    {
      "cell_type": "code",
      "metadata": {
        "id": "N73jhOTO5tFK",
        "colab_type": "code",
        "colab": {}
      },
      "source": [
        "train = data.copy()"
      ],
      "execution_count": 0,
      "outputs": []
    },
    {
      "cell_type": "code",
      "metadata": {
        "id": "NIOAwF3N5zta",
        "colab_type": "code",
        "colab": {}
      },
      "source": [
        "test = data1.copy()"
      ],
      "execution_count": 0,
      "outputs": []
    },
    {
      "cell_type": "code",
      "metadata": {
        "id": "aXJiPWkU55My",
        "colab_type": "code",
        "outputId": "7d27a0b3-7bcc-4c50-92f5-9b85296d571e",
        "colab": {
          "base_uri": "https://localhost:8080/",
          "height": 224
        }
      },
      "source": [
        "train.head()"
      ],
      "execution_count": 0,
      "outputs": [
        {
          "output_type": "execute_result",
          "data": {
            "text/html": [
              "<div>\n",
              "<style scoped>\n",
              "    .dataframe tbody tr th:only-of-type {\n",
              "        vertical-align: middle;\n",
              "    }\n",
              "\n",
              "    .dataframe tbody tr th {\n",
              "        vertical-align: top;\n",
              "    }\n",
              "\n",
              "    .dataframe thead th {\n",
              "        text-align: right;\n",
              "    }\n",
              "</style>\n",
              "<table border=\"1\" class=\"dataframe\">\n",
              "  <thead>\n",
              "    <tr style=\"text-align: right;\">\n",
              "      <th></th>\n",
              "      <th>Image</th>\n",
              "      <th>contrast</th>\n",
              "      <th>corelation</th>\n",
              "      <th>energy</th>\n",
              "      <th>entropy</th>\n",
              "      <th>homogenity</th>\n",
              "      <th>mean</th>\n",
              "      <th>RMS</th>\n",
              "      <th>standard_deviation</th>\n",
              "      <th>Target</th>\n",
              "    </tr>\n",
              "  </thead>\n",
              "  <tbody>\n",
              "    <tr>\n",
              "      <th>0</th>\n",
              "      <td>Y1.jpg'</td>\n",
              "      <td>1.050471</td>\n",
              "      <td>0.874184</td>\n",
              "      <td>0.165066</td>\n",
              "      <td>0.000000</td>\n",
              "      <td>0.828313</td>\n",
              "      <td>504</td>\n",
              "      <td>1063.926968</td>\n",
              "      <td>1570.998489</td>\n",
              "      <td>1</td>\n",
              "    </tr>\n",
              "    <tr>\n",
              "      <th>1</th>\n",
              "      <td>Y10.jpg'</td>\n",
              "      <td>2.265129</td>\n",
              "      <td>0.737668</td>\n",
              "      <td>0.089364</td>\n",
              "      <td>0.000000</td>\n",
              "      <td>0.750672</td>\n",
              "      <td>504</td>\n",
              "      <td>917.004937</td>\n",
              "      <td>1103.545254</td>\n",
              "      <td>1</td>\n",
              "    </tr>\n",
              "    <tr>\n",
              "      <th>2</th>\n",
              "      <td>Y100.JPG'</td>\n",
              "      <td>0.758309</td>\n",
              "      <td>0.761694</td>\n",
              "      <td>0.183233</td>\n",
              "      <td>0.543564</td>\n",
              "      <td>0.840091</td>\n",
              "      <td>504</td>\n",
              "      <td>1073.485214</td>\n",
              "      <td>1663.750267</td>\n",
              "      <td>1</td>\n",
              "    </tr>\n",
              "    <tr>\n",
              "      <th>3</th>\n",
              "      <td>Y101.jpg'</td>\n",
              "      <td>1.502604</td>\n",
              "      <td>0.646009</td>\n",
              "      <td>0.259912</td>\n",
              "      <td>0.000000</td>\n",
              "      <td>0.862759</td>\n",
              "      <td>504</td>\n",
              "      <td>1152.458862</td>\n",
              "      <td>2008.587777</td>\n",
              "      <td>1</td>\n",
              "    </tr>\n",
              "    <tr>\n",
              "      <th>4</th>\n",
              "      <td>Y102.jpg'</td>\n",
              "      <td>0.786768</td>\n",
              "      <td>0.848084</td>\n",
              "      <td>0.138147</td>\n",
              "      <td>0.448864</td>\n",
              "      <td>0.815127</td>\n",
              "      <td>504</td>\n",
              "      <td>1022.858819</td>\n",
              "      <td>1422.482460</td>\n",
              "      <td>1</td>\n",
              "    </tr>\n",
              "  </tbody>\n",
              "</table>\n",
              "</div>"
            ],
            "text/plain": [
              "       Image  contrast  corelation  ...          RMS  standard_deviation  Target\n",
              "0    Y1.jpg'  1.050471    0.874184  ...  1063.926968         1570.998489       1\n",
              "1   Y10.jpg'  2.265129    0.737668  ...   917.004937         1103.545254       1\n",
              "2  Y100.JPG'  0.758309    0.761694  ...  1073.485214         1663.750267       1\n",
              "3  Y101.jpg'  1.502604    0.646009  ...  1152.458862         2008.587777       1\n",
              "4  Y102.jpg'  0.786768    0.848084  ...  1022.858819         1422.482460       1\n",
              "\n",
              "[5 rows x 10 columns]"
            ]
          },
          "metadata": {
            "tags": []
          },
          "execution_count": 25
        }
      ]
    },
    {
      "cell_type": "code",
      "metadata": {
        "id": "6VAFBJLo59I6",
        "colab_type": "code",
        "colab": {}
      },
      "source": [
        "target=train.drop('SalePrice',axis=1)"
      ],
      "execution_count": 0,
      "outputs": []
    },
    {
      "cell_type": "code",
      "metadata": {
        "id": "huMcgbAB6nIS",
        "colab_type": "code",
        "outputId": "200830ff-faff-402b-a027-8a510b8fc9bb",
        "colab": {
          "base_uri": "https://localhost:8080/",
          "height": 34
        }
      },
      "source": [
        "train.shape"
      ],
      "execution_count": 0,
      "outputs": [
        {
          "output_type": "execute_result",
          "data": {
            "text/plain": [
              "(246, 10)"
            ]
          },
          "metadata": {
            "tags": []
          },
          "execution_count": 26
        }
      ]
    },
    {
      "cell_type": "code",
      "metadata": {
        "id": "9ls-vA_rt0Nl",
        "colab_type": "code",
        "outputId": "b623b3a4-d14b-4b4c-e471-a08ae98d50c3",
        "colab": {
          "base_uri": "https://localhost:8080/",
          "height": 224
        }
      },
      "source": [
        "train.head()"
      ],
      "execution_count": 0,
      "outputs": [
        {
          "output_type": "execute_result",
          "data": {
            "text/html": [
              "<div>\n",
              "<style scoped>\n",
              "    .dataframe tbody tr th:only-of-type {\n",
              "        vertical-align: middle;\n",
              "    }\n",
              "\n",
              "    .dataframe tbody tr th {\n",
              "        vertical-align: top;\n",
              "    }\n",
              "\n",
              "    .dataframe thead th {\n",
              "        text-align: right;\n",
              "    }\n",
              "</style>\n",
              "<table border=\"1\" class=\"dataframe\">\n",
              "  <thead>\n",
              "    <tr style=\"text-align: right;\">\n",
              "      <th></th>\n",
              "      <th>Image</th>\n",
              "      <th>contrast</th>\n",
              "      <th>corelation</th>\n",
              "      <th>energy</th>\n",
              "      <th>entropy</th>\n",
              "      <th>homogenity</th>\n",
              "      <th>mean</th>\n",
              "      <th>RMS</th>\n",
              "      <th>standard_deviation</th>\n",
              "      <th>Target</th>\n",
              "    </tr>\n",
              "  </thead>\n",
              "  <tbody>\n",
              "    <tr>\n",
              "      <th>0</th>\n",
              "      <td>Y1.jpg'</td>\n",
              "      <td>1.050471</td>\n",
              "      <td>0.874184</td>\n",
              "      <td>0.165066</td>\n",
              "      <td>0.000000</td>\n",
              "      <td>0.828313</td>\n",
              "      <td>504</td>\n",
              "      <td>1063.926968</td>\n",
              "      <td>1570.998489</td>\n",
              "      <td>1</td>\n",
              "    </tr>\n",
              "    <tr>\n",
              "      <th>1</th>\n",
              "      <td>Y10.jpg'</td>\n",
              "      <td>2.265129</td>\n",
              "      <td>0.737668</td>\n",
              "      <td>0.089364</td>\n",
              "      <td>0.000000</td>\n",
              "      <td>0.750672</td>\n",
              "      <td>504</td>\n",
              "      <td>917.004937</td>\n",
              "      <td>1103.545254</td>\n",
              "      <td>1</td>\n",
              "    </tr>\n",
              "    <tr>\n",
              "      <th>2</th>\n",
              "      <td>Y100.JPG'</td>\n",
              "      <td>0.758309</td>\n",
              "      <td>0.761694</td>\n",
              "      <td>0.183233</td>\n",
              "      <td>0.543564</td>\n",
              "      <td>0.840091</td>\n",
              "      <td>504</td>\n",
              "      <td>1073.485214</td>\n",
              "      <td>1663.750267</td>\n",
              "      <td>1</td>\n",
              "    </tr>\n",
              "    <tr>\n",
              "      <th>3</th>\n",
              "      <td>Y101.jpg'</td>\n",
              "      <td>1.502604</td>\n",
              "      <td>0.646009</td>\n",
              "      <td>0.259912</td>\n",
              "      <td>0.000000</td>\n",
              "      <td>0.862759</td>\n",
              "      <td>504</td>\n",
              "      <td>1152.458862</td>\n",
              "      <td>2008.587777</td>\n",
              "      <td>1</td>\n",
              "    </tr>\n",
              "    <tr>\n",
              "      <th>4</th>\n",
              "      <td>Y102.jpg'</td>\n",
              "      <td>0.786768</td>\n",
              "      <td>0.848084</td>\n",
              "      <td>0.138147</td>\n",
              "      <td>0.448864</td>\n",
              "      <td>0.815127</td>\n",
              "      <td>504</td>\n",
              "      <td>1022.858819</td>\n",
              "      <td>1422.482460</td>\n",
              "      <td>1</td>\n",
              "    </tr>\n",
              "  </tbody>\n",
              "</table>\n",
              "</div>"
            ],
            "text/plain": [
              "       Image  contrast  corelation  ...          RMS  standard_deviation  Target\n",
              "0    Y1.jpg'  1.050471    0.874184  ...  1063.926968         1570.998489       1\n",
              "1   Y10.jpg'  2.265129    0.737668  ...   917.004937         1103.545254       1\n",
              "2  Y100.JPG'  0.758309    0.761694  ...  1073.485214         1663.750267       1\n",
              "3  Y101.jpg'  1.502604    0.646009  ...  1152.458862         2008.587777       1\n",
              "4  Y102.jpg'  0.786768    0.848084  ...  1022.858819         1422.482460       1\n",
              "\n",
              "[5 rows x 10 columns]"
            ]
          },
          "metadata": {
            "tags": []
          },
          "execution_count": 27
        }
      ]
    },
    {
      "cell_type": "code",
      "metadata": {
        "id": "M1nuyDqkuqR0",
        "colab_type": "code",
        "colab": {}
      },
      "source": [
        "# know at this point df,train,data contain same stuff just naming is different\n",
        "df = train"
      ],
      "execution_count": 0,
      "outputs": []
    },
    {
      "cell_type": "code",
      "metadata": {
        "id": "e_FFRHkc6qn7",
        "colab_type": "code",
        "colab": {}
      },
      "source": [
        "#train.drop('SalePrice',axis=0) # for droping column and store to given variable"
      ],
      "execution_count": 0,
      "outputs": []
    },
    {
      "cell_type": "markdown",
      "metadata": {
        "id": "Ub7m6IUu8GGA",
        "colab_type": "text"
      },
      "source": [
        "apply the feature enginerring"
      ]
    },
    {
      "cell_type": "code",
      "metadata": {
        "id": "zd2WDS8d8XzR",
        "colab_type": "code",
        "outputId": "f3d28ac7-e3f5-4c98-90b7-a30c73d102ef",
        "colab": {
          "base_uri": "https://localhost:8080/",
          "height": 368
        }
      },
      "source": [
        "sns.heatmap(df.isnull(),yticklabels=False,cbar=False)"
      ],
      "execution_count": 0,
      "outputs": [
        {
          "output_type": "execute_result",
          "data": {
            "text/plain": [
              "<matplotlib.axes._subplots.AxesSubplot at 0x7f8f222c15c0>"
            ]
          },
          "metadata": {
            "tags": []
          },
          "execution_count": 30
        },
        {
          "output_type": "display_data",
          "data": {
            "image/png": "[encoded data removed]",
            "text/plain": [
              "<Figure size 432x288 with 1 Axes>"
            ]
          },
          "metadata": {
            "tags": [],
            "needs_background": "light"
          }
        }
      ]
    },
    {
      "cell_type": "code",
      "metadata": {
        "id": "bvi1wrsA80oJ",
        "colab_type": "code",
        "outputId": "c2e30915-9f11-4bc4-e3ec-6c0b2a7cb8d7",
        "colab": {
          "base_uri": "https://localhost:8080/",
          "height": 419
        }
      },
      "source": [
        "df.isna()"
      ],
      "execution_count": 0,
      "outputs": [
        {
          "output_type": "execute_result",
          "data": {
            "text/html": [
              "<div>\n",
              "<style scoped>\n",
              "    .dataframe tbody tr th:only-of-type {\n",
              "        vertical-align: middle;\n",
              "    }\n",
              "\n",
              "    .dataframe tbody tr th {\n",
              "        vertical-align: top;\n",
              "    }\n",
              "\n",
              "    .dataframe thead th {\n",
              "        text-align: right;\n",
              "    }\n",
              "</style>\n",
              "<table border=\"1\" class=\"dataframe\">\n",
              "  <thead>\n",
              "    <tr style=\"text-align: right;\">\n",
              "      <th></th>\n",
              "      <th>Image</th>\n",
              "      <th>contrast</th>\n",
              "      <th>corelation</th>\n",
              "      <th>energy</th>\n",
              "      <th>entropy</th>\n",
              "      <th>homogenity</th>\n",
              "      <th>mean</th>\n",
              "      <th>RMS</th>\n",
              "      <th>standard_deviation</th>\n",
              "      <th>Target</th>\n",
              "    </tr>\n",
              "  </thead>\n",
              "  <tbody>\n",
              "    <tr>\n",
              "      <th>0</th>\n",
              "      <td>False</td>\n",
              "      <td>False</td>\n",
              "      <td>False</td>\n",
              "      <td>False</td>\n",
              "      <td>False</td>\n",
              "      <td>False</td>\n",
              "      <td>False</td>\n",
              "      <td>False</td>\n",
              "      <td>False</td>\n",
              "      <td>False</td>\n",
              "    </tr>\n",
              "    <tr>\n",
              "      <th>1</th>\n",
              "      <td>False</td>\n",
              "      <td>False</td>\n",
              "      <td>False</td>\n",
              "      <td>False</td>\n",
              "      <td>False</td>\n",
              "      <td>False</td>\n",
              "      <td>False</td>\n",
              "      <td>False</td>\n",
              "      <td>False</td>\n",
              "      <td>False</td>\n",
              "    </tr>\n",
              "    <tr>\n",
              "      <th>2</th>\n",
              "      <td>False</td>\n",
              "      <td>False</td>\n",
              "      <td>False</td>\n",
              "      <td>False</td>\n",
              "      <td>False</td>\n",
              "      <td>False</td>\n",
              "      <td>False</td>\n",
              "      <td>False</td>\n",
              "      <td>False</td>\n",
              "      <td>False</td>\n",
              "    </tr>\n",
              "    <tr>\n",
              "      <th>3</th>\n",
              "      <td>False</td>\n",
              "      <td>False</td>\n",
              "      <td>False</td>\n",
              "      <td>False</td>\n",
              "      <td>False</td>\n",
              "      <td>False</td>\n",
              "      <td>False</td>\n",
              "      <td>False</td>\n",
              "      <td>False</td>\n",
              "      <td>False</td>\n",
              "    </tr>\n",
              "    <tr>\n",
              "      <th>4</th>\n",
              "      <td>False</td>\n",
              "      <td>False</td>\n",
              "      <td>False</td>\n",
              "      <td>False</td>\n",
              "      <td>False</td>\n",
              "      <td>False</td>\n",
              "      <td>False</td>\n",
              "      <td>False</td>\n",
              "      <td>False</td>\n",
              "      <td>False</td>\n",
              "    </tr>\n",
              "    <tr>\n",
              "      <th>...</th>\n",
              "      <td>...</td>\n",
              "      <td>...</td>\n",
              "      <td>...</td>\n",
              "      <td>...</td>\n",
              "      <td>...</td>\n",
              "      <td>...</td>\n",
              "      <td>...</td>\n",
              "      <td>...</td>\n",
              "      <td>...</td>\n",
              "      <td>...</td>\n",
              "    </tr>\n",
              "    <tr>\n",
              "      <th>241</th>\n",
              "      <td>False</td>\n",
              "      <td>False</td>\n",
              "      <td>False</td>\n",
              "      <td>False</td>\n",
              "      <td>False</td>\n",
              "      <td>False</td>\n",
              "      <td>False</td>\n",
              "      <td>False</td>\n",
              "      <td>False</td>\n",
              "      <td>False</td>\n",
              "    </tr>\n",
              "    <tr>\n",
              "      <th>242</th>\n",
              "      <td>False</td>\n",
              "      <td>False</td>\n",
              "      <td>False</td>\n",
              "      <td>False</td>\n",
              "      <td>False</td>\n",
              "      <td>False</td>\n",
              "      <td>False</td>\n",
              "      <td>False</td>\n",
              "      <td>False</td>\n",
              "      <td>False</td>\n",
              "    </tr>\n",
              "    <tr>\n",
              "      <th>243</th>\n",
              "      <td>False</td>\n",
              "      <td>False</td>\n",
              "      <td>False</td>\n",
              "      <td>False</td>\n",
              "      <td>False</td>\n",
              "      <td>False</td>\n",
              "      <td>False</td>\n",
              "      <td>False</td>\n",
              "      <td>False</td>\n",
              "      <td>False</td>\n",
              "    </tr>\n",
              "    <tr>\n",
              "      <th>244</th>\n",
              "      <td>False</td>\n",
              "      <td>False</td>\n",
              "      <td>False</td>\n",
              "      <td>False</td>\n",
              "      <td>False</td>\n",
              "      <td>False</td>\n",
              "      <td>False</td>\n",
              "      <td>False</td>\n",
              "      <td>False</td>\n",
              "      <td>False</td>\n",
              "    </tr>\n",
              "    <tr>\n",
              "      <th>245</th>\n",
              "      <td>False</td>\n",
              "      <td>False</td>\n",
              "      <td>False</td>\n",
              "      <td>False</td>\n",
              "      <td>False</td>\n",
              "      <td>False</td>\n",
              "      <td>False</td>\n",
              "      <td>False</td>\n",
              "      <td>False</td>\n",
              "      <td>False</td>\n",
              "    </tr>\n",
              "  </tbody>\n",
              "</table>\n",
              "<p>246 rows × 10 columns</p>\n",
              "</div>"
            ],
            "text/plain": [
              "     Image  contrast  corelation  ...    RMS  standard_deviation  Target\n",
              "0    False     False       False  ...  False               False   False\n",
              "1    False     False       False  ...  False               False   False\n",
              "2    False     False       False  ...  False               False   False\n",
              "3    False     False       False  ...  False               False   False\n",
              "4    False     False       False  ...  False               False   False\n",
              "..     ...       ...         ...  ...    ...                 ...     ...\n",
              "241  False     False       False  ...  False               False   False\n",
              "242  False     False       False  ...  False               False   False\n",
              "243  False     False       False  ...  False               False   False\n",
              "244  False     False       False  ...  False               False   False\n",
              "245  False     False       False  ...  False               False   False\n",
              "\n",
              "[246 rows x 10 columns]"
            ]
          },
          "metadata": {
            "tags": []
          },
          "execution_count": 31
        }
      ]
    },
    {
      "cell_type": "code",
      "metadata": {
        "id": "xsaiLxFj9IhI",
        "colab_type": "code",
        "colab": {}
      },
      "source": [
        "df.drop(['RMS'],axis=1,inplace=True)"
      ],
      "execution_count": 0,
      "outputs": []
    },
    {
      "cell_type": "code",
      "metadata": {
        "id": "G_y5Ifg39WMR",
        "colab_type": "code",
        "colab": {}
      },
      "source": [
        "df.drop(['standard_deviation'],axis=1,inplace=True)"
      ],
      "execution_count": 0,
      "outputs": []
    },
    {
      "cell_type": "code",
      "metadata": {
        "id": "UXjKcV8I9lig",
        "colab_type": "code",
        "outputId": "dec29eef-c702-467d-d003-bdf866f4564a",
        "colab": {
          "base_uri": "https://localhost:8080/",
          "height": 332
        }
      },
      "source": [
        "sns.heatmap(df.isnull(),yticklabels=False,cbar=False)"
      ],
      "execution_count": 0,
      "outputs": [
        {
          "output_type": "execute_result",
          "data": {
            "text/plain": [
              "<matplotlib.axes._subplots.AxesSubplot at 0x7f8f21f13a20>"
            ]
          },
          "metadata": {
            "tags": []
          },
          "execution_count": 35
        },
        {
          "output_type": "display_data",
          "data": {
            "image/png": "[encoded data removed]",
            "text/plain": [
              "<Figure size 432x288 with 1 Axes>"
            ]
          },
          "metadata": {
            "tags": [],
            "needs_background": "light"
          }
        }
      ]
    },
    {
      "cell_type": "code",
      "metadata": {
        "id": "LDVX_w2uAy9r",
        "colab_type": "code",
        "colab": {}
      },
      "source": [
        "df['LotFrontage']=df['LotFrontage'].fillna(df['LotFrontage'].mean())\n",
        "\n",
        "df['BsmtCond']=df['BsmtCond'].fillna(df['BsmtCond'].mode()[0])\n",
        "df['BsmtQual']=df['BsmtQual'].fillna(df['BsmtQual'].mode()[0])\n",
        "\n",
        "df['FireplaceQu']=df['FireplaceQu'].fillna(df['FireplaceQu'].mode()[0])\n",
        "df['GarageType']=df['GarageType'].fillna(df['GarageType'].mode()[0])\n",
        "\n",
        "df.drop(['GarageYrBlt'],axis=1,inplace=True)\n",
        "\n",
        "df['GarageFinish']=df['GarageFinish'].fillna(df['GarageFinish'].mode()[0])\n",
        "df['GarageQual']=df['GarageQual'].fillna(df['GarageQual'].mode()[0])\n",
        "df['GarageCond']=df['GarageCond'].fillna(df['GarageCond'].mode()[0])\n"
      ],
      "execution_count": 0,
      "outputs": []
    },
    {
      "cell_type": "code",
      "metadata": {
        "id": "VsKFlwLBB6Vk",
        "colab_type": "code",
        "outputId": "9bb6e649-3075-451f-de81-2de86818d688",
        "colab": {
          "base_uri": "https://localhost:8080/",
          "height": 332
        }
      },
      "source": [
        "sns.heatmap(df.isnull(),yticklabels=False,cbar=False)"
      ],
      "execution_count": 0,
      "outputs": [
        {
          "output_type": "execute_result",
          "data": {
            "text/plain": [
              "<matplotlib.axes._subplots.AxesSubplot at 0x7f8f21f67208>"
            ]
          },
          "metadata": {
            "tags": []
          },
          "execution_count": 36
        },
        {
          "output_type": "display_data",
          "data": {
            "image/png": "[encoded data removed]",
            "text/plain": [
              "<Figure size 432x288 with 1 Axes>"
            ]
          },
          "metadata": {
            "tags": [],
            "needs_background": "light"
          }
        }
      ]
    },
    {
      "cell_type": "code",
      "metadata": {
        "id": "thZctLLwCllN",
        "colab_type": "code",
        "colab": {}
      },
      "source": [
        "df.drop(['Image'],axis=1,inplace=True)     # in this case directly dropping"
      ],
      "execution_count": 0,
      "outputs": []
    },
    {
      "cell_type": "code",
      "metadata": {
        "id": "Kzggu9i6Co8U",
        "colab_type": "code",
        "outputId": "e07c8255-6ead-481a-f159-002e114fd8dc",
        "colab": {
          "base_uri": "https://localhost:8080/",
          "height": 153
        }
      },
      "source": [
        "df.isnull().sum()"
      ],
      "execution_count": 0,
      "outputs": [
        {
          "output_type": "execute_result",
          "data": {
            "text/plain": [
              "contrast      0\n",
              "corelation    0\n",
              "energy        0\n",
              "entropy       0\n",
              "homogenity    0\n",
              "mean          0\n",
              "Target        0\n",
              "dtype: int64"
            ]
          },
          "metadata": {
            "tags": []
          },
          "execution_count": 40
        }
      ]
    },
    {
      "cell_type": "code",
      "metadata": {
        "id": "q3U3AA1CCw1c",
        "colab_type": "code",
        "outputId": "99f9ffcb-23fa-46cf-e032-c50f86f2c6bc",
        "colab": {
          "base_uri": "https://localhost:8080/",
          "height": 173
        }
      },
      "source": [
        "df.isnull().describe()"
      ],
      "execution_count": 0,
      "outputs": [
        {
          "output_type": "execute_result",
          "data": {
            "text/html": [
              "<div>\n",
              "<style scoped>\n",
              "    .dataframe tbody tr th:only-of-type {\n",
              "        vertical-align: middle;\n",
              "    }\n",
              "\n",
              "    .dataframe tbody tr th {\n",
              "        vertical-align: top;\n",
              "    }\n",
              "\n",
              "    .dataframe thead th {\n",
              "        text-align: right;\n",
              "    }\n",
              "</style>\n",
              "<table border=\"1\" class=\"dataframe\">\n",
              "  <thead>\n",
              "    <tr style=\"text-align: right;\">\n",
              "      <th></th>\n",
              "      <th>contrast</th>\n",
              "      <th>corelation</th>\n",
              "      <th>energy</th>\n",
              "      <th>entropy</th>\n",
              "      <th>homogenity</th>\n",
              "      <th>mean</th>\n",
              "      <th>Target</th>\n",
              "    </tr>\n",
              "  </thead>\n",
              "  <tbody>\n",
              "    <tr>\n",
              "      <th>count</th>\n",
              "      <td>246</td>\n",
              "      <td>246</td>\n",
              "      <td>246</td>\n",
              "      <td>246</td>\n",
              "      <td>246</td>\n",
              "      <td>246</td>\n",
              "      <td>246</td>\n",
              "    </tr>\n",
              "    <tr>\n",
              "      <th>unique</th>\n",
              "      <td>1</td>\n",
              "      <td>1</td>\n",
              "      <td>1</td>\n",
              "      <td>1</td>\n",
              "      <td>1</td>\n",
              "      <td>1</td>\n",
              "      <td>1</td>\n",
              "    </tr>\n",
              "    <tr>\n",
              "      <th>top</th>\n",
              "      <td>False</td>\n",
              "      <td>False</td>\n",
              "      <td>False</td>\n",
              "      <td>False</td>\n",
              "      <td>False</td>\n",
              "      <td>False</td>\n",
              "      <td>False</td>\n",
              "    </tr>\n",
              "    <tr>\n",
              "      <th>freq</th>\n",
              "      <td>246</td>\n",
              "      <td>246</td>\n",
              "      <td>246</td>\n",
              "      <td>246</td>\n",
              "      <td>246</td>\n",
              "      <td>246</td>\n",
              "      <td>246</td>\n",
              "    </tr>\n",
              "  </tbody>\n",
              "</table>\n",
              "</div>"
            ],
            "text/plain": [
              "       contrast corelation energy entropy homogenity   mean Target\n",
              "count       246        246    246     246        246    246    246\n",
              "unique        1          1      1       1          1      1      1\n",
              "top       False      False  False   False      False  False  False\n",
              "freq        246        246    246     246        246    246    246"
            ]
          },
          "metadata": {
            "tags": []
          },
          "execution_count": 41
        }
      ]
    },
    {
      "cell_type": "code",
      "metadata": {
        "id": "Zee6HcEADLtl",
        "colab_type": "code",
        "outputId": "9516e2ea-7868-48cb-d59b-d942f5edd81a",
        "colab": {
          "base_uri": "https://localhost:8080/",
          "height": 221
        }
      },
      "source": [
        "df['Target'].isna()"
      ],
      "execution_count": 0,
      "outputs": [
        {
          "output_type": "execute_result",
          "data": {
            "text/plain": [
              "0      False\n",
              "1      False\n",
              "2      False\n",
              "3      False\n",
              "4      False\n",
              "       ...  \n",
              "241    False\n",
              "242    False\n",
              "243    False\n",
              "244    False\n",
              "245    False\n",
              "Name: Target, Length: 246, dtype: bool"
            ]
          },
          "metadata": {
            "tags": []
          },
          "execution_count": 42
        }
      ]
    },
    {
      "cell_type": "code",
      "metadata": {
        "id": "K5wjhUPjDpdm",
        "colab_type": "code",
        "outputId": "fb8c62d8-08bb-45f8-ef3b-a9c0a61d9169",
        "colab": {
          "base_uri": "https://localhost:8080/",
          "height": 717
        }
      },
      "source": [
        "df['MasVnrType']=df['MasVnrType'].fillna(df['MasVnrType'].mode()[0])\n",
        "df['MasVnrArea']=df['MasVnrArea'].fillna(df['MasVnrArea'].mode()[0])\n",
        "df['BsmtExposure']=df['BsmtExposure'].fillna(df['BsmtExposure'].mode()[0])\n",
        "df['BsmtFinType2']=df['BsmtFinType2'].fillna(df['BsmtFinType2'].mode()[0])"
      ],
      "execution_count": 0,
      "outputs": [
        {
          "output_type": "error",
          "ename": "KeyError",
          "evalue": "ignored",
          "traceback": [
            "\u001b[0;31m---------------------------------------------------------------------------\u001b[0m",
            "\u001b[0;31mKeyError\u001b[0m                                  Traceback (most recent call last)",
            "\u001b[0;32m/usr/local/lib/python3.6/dist-packages/pandas/core/indexes/base.py\u001b[0m in \u001b[0;36mget_loc\u001b[0;34m(self, key, method, tolerance)\u001b[0m\n\u001b[1;32m   2645\u001b[0m             \u001b[0;32mtry\u001b[0m\u001b[0;34m:\u001b[0m\u001b[0;34m\u001b[0m\u001b[0;34m\u001b[0m\u001b[0m\n\u001b[0;32m-> 2646\u001b[0;31m                 \u001b[0;32mreturn\u001b[0m \u001b[0mself\u001b[0m\u001b[0;34m.\u001b[0m\u001b[0m_engine\u001b[0m\u001b[0;34m.\u001b[0m\u001b[0mget_loc\u001b[0m\u001b[0;34m(\u001b[0m\u001b[0mkey\u001b[0m\u001b[0;34m)\u001b[0m\u001b[0;34m\u001b[0m\u001b[0;34m\u001b[0m\u001b[0m\n\u001b[0m\u001b[1;32m   2647\u001b[0m             \u001b[0;32mexcept\u001b[0m \u001b[0mKeyError\u001b[0m\u001b[0;34m:\u001b[0m\u001b[0;34m\u001b[0m\u001b[0;34m\u001b[0m\u001b[0m\n",
            "\u001b[0;32mpandas/_libs/index.pyx\u001b[0m in \u001b[0;36mpandas._libs.index.IndexEngine.get_loc\u001b[0;34m()\u001b[0m\n",
            "\u001b[0;32mpandas/_libs/index.pyx\u001b[0m in \u001b[0;36mpandas._libs.index.IndexEngine.get_loc\u001b[0;34m()\u001b[0m\n",
            "\u001b[0;32mpandas/_libs/hashtable_class_helper.pxi\u001b[0m in \u001b[0;36mpandas._libs.hashtable.PyObjectHashTable.get_item\u001b[0;34m()\u001b[0m\n",
            "\u001b[0;32mpandas/_libs/hashtable_class_helper.pxi\u001b[0m in \u001b[0;36mpandas._libs.hashtable.PyObjectHashTable.get_item\u001b[0;34m()\u001b[0m\n",
            "\u001b[0;31mKeyError\u001b[0m: 'MasVnrType'",
            "\nDuring handling of the above exception, another exception occurred:\n",
            "\u001b[0;31mKeyError\u001b[0m                                  Traceback (most recent call last)",
            "\u001b[0;32m<ipython-input-43-9c4f3525b304>\u001b[0m in \u001b[0;36m<module>\u001b[0;34m()\u001b[0m\n\u001b[0;32m----> 1\u001b[0;31m \u001b[0mdf\u001b[0m\u001b[0;34m[\u001b[0m\u001b[0;34m'MasVnrType'\u001b[0m\u001b[0;34m]\u001b[0m\u001b[0;34m=\u001b[0m\u001b[0mdf\u001b[0m\u001b[0;34m[\u001b[0m\u001b[0;34m'MasVnrType'\u001b[0m\u001b[0;34m]\u001b[0m\u001b[0;34m.\u001b[0m\u001b[0mfillna\u001b[0m\u001b[0;34m(\u001b[0m\u001b[0mdf\u001b[0m\u001b[0;34m[\u001b[0m\u001b[0;34m'MasVnrType'\u001b[0m\u001b[0;34m]\u001b[0m\u001b[0;34m.\u001b[0m\u001b[0mmode\u001b[0m\u001b[0;34m(\u001b[0m\u001b[0;34m)\u001b[0m\u001b[0;34m[\u001b[0m\u001b[0;36m0\u001b[0m\u001b[0;34m]\u001b[0m\u001b[0;34m)\u001b[0m\u001b[0;34m\u001b[0m\u001b[0;34m\u001b[0m\u001b[0m\n\u001b[0m\u001b[1;32m      2\u001b[0m \u001b[0mdf\u001b[0m\u001b[0;34m[\u001b[0m\u001b[0;34m'MasVnrArea'\u001b[0m\u001b[0;34m]\u001b[0m\u001b[0;34m=\u001b[0m\u001b[0mdf\u001b[0m\u001b[0;34m[\u001b[0m\u001b[0;34m'MasVnrArea'\u001b[0m\u001b[0;34m]\u001b[0m\u001b[0;34m.\u001b[0m\u001b[0mfillna\u001b[0m\u001b[0;34m(\u001b[0m\u001b[0mdf\u001b[0m\u001b[0;34m[\u001b[0m\u001b[0;34m'MasVnrArea'\u001b[0m\u001b[0;34m]\u001b[0m\u001b[0;34m.\u001b[0m\u001b[0mmode\u001b[0m\u001b[0;34m(\u001b[0m\u001b[0;34m)\u001b[0m\u001b[0;34m[\u001b[0m\u001b[0;36m0\u001b[0m\u001b[0;34m]\u001b[0m\u001b[0;34m)\u001b[0m\u001b[0;34m\u001b[0m\u001b[0;34m\u001b[0m\u001b[0m\n\u001b[1;32m      3\u001b[0m \u001b[0mdf\u001b[0m\u001b[0;34m[\u001b[0m\u001b[0;34m'BsmtExposure'\u001b[0m\u001b[0;34m]\u001b[0m\u001b[0;34m=\u001b[0m\u001b[0mdf\u001b[0m\u001b[0;34m[\u001b[0m\u001b[0;34m'BsmtExposure'\u001b[0m\u001b[0;34m]\u001b[0m\u001b[0;34m.\u001b[0m\u001b[0mfillna\u001b[0m\u001b[0;34m(\u001b[0m\u001b[0mdf\u001b[0m\u001b[0;34m[\u001b[0m\u001b[0;34m'BsmtExposure'\u001b[0m\u001b[0;34m]\u001b[0m\u001b[0;34m.\u001b[0m\u001b[0mmode\u001b[0m\u001b[0;34m(\u001b[0m\u001b[0;34m)\u001b[0m\u001b[0;34m[\u001b[0m\u001b[0;36m0\u001b[0m\u001b[0;34m]\u001b[0m\u001b[0;34m)\u001b[0m\u001b[0;34m\u001b[0m\u001b[0;34m\u001b[0m\u001b[0m\n\u001b[1;32m      4\u001b[0m \u001b[0mdf\u001b[0m\u001b[0;34m[\u001b[0m\u001b[0;34m'BsmtFinType2'\u001b[0m\u001b[0;34m]\u001b[0m\u001b[0;34m=\u001b[0m\u001b[0mdf\u001b[0m\u001b[0;34m[\u001b[0m\u001b[0;34m'BsmtFinType2'\u001b[0m\u001b[0;34m]\u001b[0m\u001b[0;34m.\u001b[0m\u001b[0mfillna\u001b[0m\u001b[0;34m(\u001b[0m\u001b[0mdf\u001b[0m\u001b[0;34m[\u001b[0m\u001b[0;34m'BsmtFinType2'\u001b[0m\u001b[0;34m]\u001b[0m\u001b[0;34m.\u001b[0m\u001b[0mmode\u001b[0m\u001b[0;34m(\u001b[0m\u001b[0;34m)\u001b[0m\u001b[0;34m[\u001b[0m\u001b[0;36m0\u001b[0m\u001b[0;34m]\u001b[0m\u001b[0;34m)\u001b[0m\u001b[0;34m\u001b[0m\u001b[0;34m\u001b[0m\u001b[0m\n",
            "\u001b[0;32m/usr/local/lib/python3.6/dist-packages/pandas/core/frame.py\u001b[0m in \u001b[0;36m__getitem__\u001b[0;34m(self, key)\u001b[0m\n\u001b[1;32m   2798\u001b[0m             \u001b[0;32mif\u001b[0m \u001b[0mself\u001b[0m\u001b[0;34m.\u001b[0m\u001b[0mcolumns\u001b[0m\u001b[0;34m.\u001b[0m\u001b[0mnlevels\u001b[0m \u001b[0;34m>\u001b[0m \u001b[0;36m1\u001b[0m\u001b[0;34m:\u001b[0m\u001b[0;34m\u001b[0m\u001b[0;34m\u001b[0m\u001b[0m\n\u001b[1;32m   2799\u001b[0m                 \u001b[0;32mreturn\u001b[0m \u001b[0mself\u001b[0m\u001b[0;34m.\u001b[0m\u001b[0m_getitem_multilevel\u001b[0m\u001b[0;34m(\u001b[0m\u001b[0mkey\u001b[0m\u001b[0;34m)\u001b[0m\u001b[0;34m\u001b[0m\u001b[0;34m\u001b[0m\u001b[0m\n\u001b[0;32m-> 2800\u001b[0;31m             \u001b[0mindexer\u001b[0m \u001b[0;34m=\u001b[0m \u001b[0mself\u001b[0m\u001b[0;34m.\u001b[0m\u001b[0mcolumns\u001b[0m\u001b[0;34m.\u001b[0m\u001b[0mget_loc\u001b[0m\u001b[0;34m(\u001b[0m\u001b[0mkey\u001b[0m\u001b[0;34m)\u001b[0m\u001b[0;34m\u001b[0m\u001b[0;34m\u001b[0m\u001b[0m\n\u001b[0m\u001b[1;32m   2801\u001b[0m             \u001b[0;32mif\u001b[0m \u001b[0mis_integer\u001b[0m\u001b[0;34m(\u001b[0m\u001b[0mindexer\u001b[0m\u001b[0;34m)\u001b[0m\u001b[0;34m:\u001b[0m\u001b[0;34m\u001b[0m\u001b[0;34m\u001b[0m\u001b[0m\n\u001b[1;32m   2802\u001b[0m                 \u001b[0mindexer\u001b[0m \u001b[0;34m=\u001b[0m \u001b[0;34m[\u001b[0m\u001b[0mindexer\u001b[0m\u001b[0;34m]\u001b[0m\u001b[0;34m\u001b[0m\u001b[0;34m\u001b[0m\u001b[0m\n",
            "\u001b[0;32m/usr/local/lib/python3.6/dist-packages/pandas/core/indexes/base.py\u001b[0m in \u001b[0;36mget_loc\u001b[0;34m(self, key, method, tolerance)\u001b[0m\n\u001b[1;32m   2646\u001b[0m                 \u001b[0;32mreturn\u001b[0m \u001b[0mself\u001b[0m\u001b[0;34m.\u001b[0m\u001b[0m_engine\u001b[0m\u001b[0;34m.\u001b[0m\u001b[0mget_loc\u001b[0m\u001b[0;34m(\u001b[0m\u001b[0mkey\u001b[0m\u001b[0;34m)\u001b[0m\u001b[0;34m\u001b[0m\u001b[0;34m\u001b[0m\u001b[0m\n\u001b[1;32m   2647\u001b[0m             \u001b[0;32mexcept\u001b[0m \u001b[0mKeyError\u001b[0m\u001b[0;34m:\u001b[0m\u001b[0;34m\u001b[0m\u001b[0;34m\u001b[0m\u001b[0m\n\u001b[0;32m-> 2648\u001b[0;31m                 \u001b[0;32mreturn\u001b[0m \u001b[0mself\u001b[0m\u001b[0;34m.\u001b[0m\u001b[0m_engine\u001b[0m\u001b[0;34m.\u001b[0m\u001b[0mget_loc\u001b[0m\u001b[0;34m(\u001b[0m\u001b[0mself\u001b[0m\u001b[0;34m.\u001b[0m\u001b[0m_maybe_cast_indexer\u001b[0m\u001b[0;34m(\u001b[0m\u001b[0mkey\u001b[0m\u001b[0;34m)\u001b[0m\u001b[0;34m)\u001b[0m\u001b[0;34m\u001b[0m\u001b[0;34m\u001b[0m\u001b[0m\n\u001b[0m\u001b[1;32m   2649\u001b[0m         \u001b[0mindexer\u001b[0m \u001b[0;34m=\u001b[0m \u001b[0mself\u001b[0m\u001b[0;34m.\u001b[0m\u001b[0mget_indexer\u001b[0m\u001b[0;34m(\u001b[0m\u001b[0;34m[\u001b[0m\u001b[0mkey\u001b[0m\u001b[0;34m]\u001b[0m\u001b[0;34m,\u001b[0m \u001b[0mmethod\u001b[0m\u001b[0;34m=\u001b[0m\u001b[0mmethod\u001b[0m\u001b[0;34m,\u001b[0m \u001b[0mtolerance\u001b[0m\u001b[0;34m=\u001b[0m\u001b[0mtolerance\u001b[0m\u001b[0;34m)\u001b[0m\u001b[0;34m\u001b[0m\u001b[0;34m\u001b[0m\u001b[0m\n\u001b[1;32m   2650\u001b[0m         \u001b[0;32mif\u001b[0m \u001b[0mindexer\u001b[0m\u001b[0;34m.\u001b[0m\u001b[0mndim\u001b[0m \u001b[0;34m>\u001b[0m \u001b[0;36m1\u001b[0m \u001b[0;32mor\u001b[0m \u001b[0mindexer\u001b[0m\u001b[0;34m.\u001b[0m\u001b[0msize\u001b[0m \u001b[0;34m>\u001b[0m \u001b[0;36m1\u001b[0m\u001b[0;34m:\u001b[0m\u001b[0;34m\u001b[0m\u001b[0;34m\u001b[0m\u001b[0m\n",
            "\u001b[0;32mpandas/_libs/index.pyx\u001b[0m in \u001b[0;36mpandas._libs.index.IndexEngine.get_loc\u001b[0;34m()\u001b[0m\n",
            "\u001b[0;32mpandas/_libs/index.pyx\u001b[0m in \u001b[0;36mpandas._libs.index.IndexEngine.get_loc\u001b[0;34m()\u001b[0m\n",
            "\u001b[0;32mpandas/_libs/hashtable_class_helper.pxi\u001b[0m in \u001b[0;36mpandas._libs.hashtable.PyObjectHashTable.get_item\u001b[0;34m()\u001b[0m\n",
            "\u001b[0;32mpandas/_libs/hashtable_class_helper.pxi\u001b[0m in \u001b[0;36mpandas._libs.hashtable.PyObjectHashTable.get_item\u001b[0;34m()\u001b[0m\n",
            "\u001b[0;31mKeyError\u001b[0m: 'MasVnrType'"
          ]
        }
      ]
    },
    {
      "cell_type": "code",
      "metadata": {
        "id": "9k7_KgA4D3v0",
        "colab_type": "code",
        "outputId": "0b3f81fd-d804-46a9-81ce-b5621dde0f33",
        "colab": {
          "base_uri": "https://localhost:8080/",
          "height": 332
        }
      },
      "source": [
        "sns.heatmap(df.isnull(),yticklabels=False,cbar=False)"
      ],
      "execution_count": 0,
      "outputs": [
        {
          "output_type": "execute_result",
          "data": {
            "text/plain": [
              "<matplotlib.axes._subplots.AxesSubplot at 0x7f8f21de8f28>"
            ]
          },
          "metadata": {
            "tags": []
          },
          "execution_count": 44
        },
        {
          "output_type": "display_data",
          "data": {
            "image/png": "[encoded data removed]",
            "text/plain": [
              "<Figure size 432x288 with 1 Axes>"
            ]
          },
          "metadata": {
            "tags": [],
            "needs_background": "light"
          }
        }
      ]
    },
    {
      "cell_type": "code",
      "metadata": {
        "id": "UMItfWrREPiT",
        "colab_type": "code",
        "outputId": "8c4490c3-4fc0-4ba4-cbd5-b6ca00b55b3e",
        "colab": {
          "base_uri": "https://localhost:8080/",
          "height": 153
        }
      },
      "source": [
        "df.isna().any()"
      ],
      "execution_count": 0,
      "outputs": [
        {
          "output_type": "execute_result",
          "data": {
            "text/plain": [
              "contrast      False\n",
              "corelation    False\n",
              "energy        False\n",
              "entropy       False\n",
              "homogenity    False\n",
              "mean          False\n",
              "Target        False\n",
              "dtype: bool"
            ]
          },
          "metadata": {
            "tags": []
          },
          "execution_count": 45
        }
      ]
    },
    {
      "cell_type": "code",
      "metadata": {
        "id": "I-9dtMd5EjgV",
        "colab_type": "code",
        "colab": {}
      },
      "source": [
        "nan_cols = [i for i in df.columns if df[i].isnull().any()]   #best way to find which colums having nan values"
      ],
      "execution_count": 0,
      "outputs": []
    },
    {
      "cell_type": "code",
      "metadata": {
        "id": "RSibk1TVEk_s",
        "colab_type": "code",
        "outputId": "569578f6-1a69-450a-e25a-54d7f9d76f04",
        "colab": {
          "base_uri": "https://localhost:8080/",
          "height": 34
        }
      },
      "source": [
        "nan_cols"
      ],
      "execution_count": 0,
      "outputs": [
        {
          "output_type": "execute_result",
          "data": {
            "text/plain": [
              "[]"
            ]
          },
          "metadata": {
            "tags": []
          },
          "execution_count": 47
        }
      ]
    },
    {
      "cell_type": "code",
      "metadata": {
        "id": "KUWE_dYMEzZ8",
        "colab_type": "code",
        "outputId": "1207aa53-c27c-4b62-dab5-a87cf7283d14",
        "colab": {
          "base_uri": "https://localhost:8080/",
          "height": 163
        }
      },
      "source": [
        "nan_cols[0]"
      ],
      "execution_count": 0,
      "outputs": [
        {
          "output_type": "error",
          "ename": "IndexError",
          "evalue": "ignored",
          "traceback": [
            "\u001b[0;31m---------------------------------------------------------------------------\u001b[0m",
            "\u001b[0;31mIndexError\u001b[0m                                Traceback (most recent call last)",
            "\u001b[0;32m<ipython-input-48-b8fd74871dc4>\u001b[0m in \u001b[0;36m<module>\u001b[0;34m()\u001b[0m\n\u001b[0;32m----> 1\u001b[0;31m \u001b[0mnan_cols\u001b[0m\u001b[0;34m[\u001b[0m\u001b[0;36m0\u001b[0m\u001b[0;34m]\u001b[0m\u001b[0;34m\u001b[0m\u001b[0;34m\u001b[0m\u001b[0m\n\u001b[0m",
            "\u001b[0;31mIndexError\u001b[0m: list index out of range"
          ]
        }
      ]
    },
    {
      "cell_type": "code",
      "metadata": {
        "id": "HObeB_j3FBOU",
        "colab_type": "code",
        "outputId": "c119eb5d-09a4-48c5-d61c-abcbc506dcba",
        "colab": {
          "base_uri": "https://localhost:8080/",
          "height": 34
        }
      },
      "source": [
        "len(nan_cols)"
      ],
      "execution_count": 0,
      "outputs": [
        {
          "output_type": "execute_result",
          "data": {
            "text/plain": [
              "0"
            ]
          },
          "metadata": {
            "tags": []
          },
          "execution_count": 49
        }
      ]
    },
    {
      "cell_type": "code",
      "metadata": {
        "id": "T3RksOB5E6Q1",
        "colab_type": "code",
        "colab": {}
      },
      "source": [
        "for i in range (len(nan_cols)):\n",
        "  df[nan_cols[i]]=df[nan_cols[i]].fillna(df[nan_cols[i]].mode()[0])\n",
        "\n"
      ],
      "execution_count": 0,
      "outputs": []
    },
    {
      "cell_type": "code",
      "metadata": {
        "id": "7NxAxYUcD9mC",
        "colab_type": "code",
        "outputId": "10fdf72b-0a34-4aa2-a264-a235dba64cc7",
        "colab": {
          "base_uri": "https://localhost:8080/",
          "height": 332
        }
      },
      "source": [
        "sns.heatmap(df.isnull(),yticklabels=False,cbar=False)"
      ],
      "execution_count": 0,
      "outputs": [
        {
          "output_type": "execute_result",
          "data": {
            "text/plain": [
              "<matplotlib.axes._subplots.AxesSubplot at 0x7f8f21dc65f8>"
            ]
          },
          "metadata": {
            "tags": []
          },
          "execution_count": 51
        },
        {
          "output_type": "display_data",
          "data": {
            "image/png": "[encoded data removed]",
            "text/plain": [
              "<Figure size 432x288 with 1 Axes>"
            ]
          },
          "metadata": {
            "tags": [],
            "needs_background": "light"
          }
        }
      ]
    },
    {
      "cell_type": "code",
      "metadata": {
        "id": "L_d6iLEMGt2o",
        "colab_type": "code",
        "outputId": "577613de-467e-4461-f289-d5181eb457d1",
        "colab": {
          "base_uri": "https://localhost:8080/",
          "height": 153
        }
      },
      "source": [
        "df.dtypes"
      ],
      "execution_count": 0,
      "outputs": [
        {
          "output_type": "execute_result",
          "data": {
            "text/plain": [
              "contrast      float64\n",
              "corelation    float64\n",
              "energy        float64\n",
              "entropy       float64\n",
              "homogenity    float64\n",
              "mean            int64\n",
              "Target          int64\n",
              "dtype: object"
            ]
          },
          "metadata": {
            "tags": []
          },
          "execution_count": 52
        }
      ]
    },
    {
      "cell_type": "code",
      "metadata": {
        "id": "ZuGfB7lRIvhN",
        "colab_type": "code",
        "colab": {}
      },
      "source": [
        "cat_features=[i for i in df.columns if df.dtypes[i]=='object']    #find the categorial features"
      ],
      "execution_count": 0,
      "outputs": []
    },
    {
      "cell_type": "code",
      "metadata": {
        "id": "kjTZjesMI2JO",
        "colab_type": "code",
        "outputId": "c96539c8-dbe6-4ed1-96cb-ddc501466162",
        "colab": {
          "base_uri": "https://localhost:8080/",
          "height": 34
        }
      },
      "source": [
        "cat_features"
      ],
      "execution_count": 0,
      "outputs": [
        {
          "output_type": "execute_result",
          "data": {
            "text/plain": [
              "[]"
            ]
          },
          "metadata": {
            "tags": []
          },
          "execution_count": 54
        }
      ]
    },
    {
      "cell_type": "code",
      "metadata": {
        "id": "kMFVSgV_JfoR",
        "colab_type": "code",
        "outputId": "b7c937a0-6cc7-4b17-8a02-55f9eadaf38d",
        "colab": {
          "base_uri": "https://localhost:8080/",
          "height": 34
        }
      },
      "source": [
        "len(cat_features)"
      ],
      "execution_count": 0,
      "outputs": [
        {
          "output_type": "execute_result",
          "data": {
            "text/plain": [
              "0"
            ]
          },
          "metadata": {
            "tags": []
          },
          "execution_count": 55
        }
      ]
    },
    {
      "cell_type": "code",
      "metadata": {
        "id": "q9Wp4lwHJm9F",
        "colab_type": "code",
        "outputId": "a8ef80c9-7746-4664-9277-dcfc55bc7a25",
        "colab": {
          "base_uri": "https://localhost:8080/",
          "height": 289
        }
      },
      "source": [
        "df.energy.value_counts().sort_values(ascending=False).head(15)"
      ],
      "execution_count": 0,
      "outputs": [
        {
          "output_type": "execute_result",
          "data": {
            "text/plain": [
              "0.198549    4\n",
              "0.078331    3\n",
              "0.181384    2\n",
              "0.324862    2\n",
              "0.212576    2\n",
              "0.289783    2\n",
              "0.181458    2\n",
              "0.194798    2\n",
              "0.224403    2\n",
              "0.257737    2\n",
              "0.169993    2\n",
              "0.089364    2\n",
              "0.224197    2\n",
              "0.106994    2\n",
              "0.221514    2\n",
              "Name: energy, dtype: int64"
            ]
          },
          "metadata": {
            "tags": []
          },
          "execution_count": 58
        }
      ]
    },
    {
      "cell_type": "code",
      "metadata": {
        "id": "mPYuhI_nR8QK",
        "colab_type": "code",
        "outputId": "eb91b9bc-1cc3-455d-b4bc-fc58a744cd81",
        "colab": {
          "base_uri": "https://localhost:8080/",
          "height": 221
        }
      },
      "source": [
        "df.energy.value_counts()                      #checking the total count"
      ],
      "execution_count": 0,
      "outputs": [
        {
          "output_type": "execute_result",
          "data": {
            "text/plain": [
              "0.198549    4\n",
              "0.078331    3\n",
              "0.138228    2\n",
              "0.450134    2\n",
              "0.144919    2\n",
              "           ..\n",
              "0.121016    1\n",
              "0.157175    1\n",
              "0.122771    1\n",
              "0.148455    1\n",
              "0.068310    1\n",
              "Name: energy, Length: 223, dtype: int64"
            ]
          },
          "metadata": {
            "tags": []
          },
          "execution_count": 59
        }
      ]
    },
    {
      "cell_type": "code",
      "metadata": {
        "id": "UCtiZ4SEWewd",
        "colab_type": "code",
        "colab": {}
      },
      "source": [
        "final_df = df.copy()\n"
      ],
      "execution_count": 0,
      "outputs": []
    },
    {
      "cell_type": "code",
      "metadata": {
        "id": "5GPKM2paSMB2",
        "colab_type": "code",
        "colab": {}
      },
      "source": [
        "def category_onehot_multcols(multcolumns):\n",
        "    df_final=final_df\n",
        "    i=0\n",
        "    for fields in multcolumns:\n",
        "        \n",
        "        print(fields)\n",
        "        df1=pd.get_dummies(final_df[fields],drop_first=True)\n",
        "        \n",
        "        final_df.drop([fields],axis=1,inplace=True)\n",
        "        if i==0:\n",
        "            df_final=df1.copy()\n",
        "        else:\n",
        "            \n",
        "            df_final=pd.concat([df_final,df1],axis=1)\n",
        "        i=i+1\n",
        "       \n",
        "        \n",
        "    df_final=pd.concat([final_df,df_final],axis=1)\n",
        "        \n",
        "    return df_final"
      ],
      "execution_count": 0,
      "outputs": []
    },
    {
      "cell_type": "code",
      "metadata": {
        "id": "597Oec_UWT6g",
        "colab_type": "code",
        "colab": {}
      },
      "source": [
        "final_df=category_onehot_multcols(cat_features)"
      ],
      "execution_count": 0,
      "outputs": []
    },
    {
      "cell_type": "code",
      "metadata": {
        "id": "-BK1ZAu5WxNt",
        "colab_type": "code",
        "outputId": "82b8eaba-6a41-4022-c236-e36dfc4b655f",
        "colab": {
          "base_uri": "https://localhost:8080/",
          "height": 439
        }
      },
      "source": [
        "final_df"
      ],
      "execution_count": 0,
      "outputs": [
        {
          "output_type": "execute_result",
          "data": {
            "text/html": [
              "<div>\n",
              "<style scoped>\n",
              "    .dataframe tbody tr th:only-of-type {\n",
              "        vertical-align: middle;\n",
              "    }\n",
              "\n",
              "    .dataframe tbody tr th {\n",
              "        vertical-align: top;\n",
              "    }\n",
              "\n",
              "    .dataframe thead th {\n",
              "        text-align: right;\n",
              "    }\n",
              "</style>\n",
              "<table border=\"1\" class=\"dataframe\">\n",
              "  <thead>\n",
              "    <tr style=\"text-align: right;\">\n",
              "      <th></th>\n",
              "      <th>contrast</th>\n",
              "      <th>corelation</th>\n",
              "      <th>energy</th>\n",
              "      <th>entropy</th>\n",
              "      <th>homogenity</th>\n",
              "      <th>mean</th>\n",
              "      <th>Target</th>\n",
              "      <th>contrast</th>\n",
              "      <th>corelation</th>\n",
              "      <th>energy</th>\n",
              "      <th>entropy</th>\n",
              "      <th>homogenity</th>\n",
              "      <th>mean</th>\n",
              "      <th>Target</th>\n",
              "    </tr>\n",
              "  </thead>\n",
              "  <tbody>\n",
              "    <tr>\n",
              "      <th>0</th>\n",
              "      <td>1.050471</td>\n",
              "      <td>0.874184</td>\n",
              "      <td>0.165066</td>\n",
              "      <td>0.000000</td>\n",
              "      <td>0.828313</td>\n",
              "      <td>504</td>\n",
              "      <td>1</td>\n",
              "      <td>1.050471</td>\n",
              "      <td>0.874184</td>\n",
              "      <td>0.165066</td>\n",
              "      <td>0.000000</td>\n",
              "      <td>0.828313</td>\n",
              "      <td>504</td>\n",
              "      <td>1</td>\n",
              "    </tr>\n",
              "    <tr>\n",
              "      <th>1</th>\n",
              "      <td>2.265129</td>\n",
              "      <td>0.737668</td>\n",
              "      <td>0.089364</td>\n",
              "      <td>0.000000</td>\n",
              "      <td>0.750672</td>\n",
              "      <td>504</td>\n",
              "      <td>1</td>\n",
              "      <td>2.265129</td>\n",
              "      <td>0.737668</td>\n",
              "      <td>0.089364</td>\n",
              "      <td>0.000000</td>\n",
              "      <td>0.750672</td>\n",
              "      <td>504</td>\n",
              "      <td>1</td>\n",
              "    </tr>\n",
              "    <tr>\n",
              "      <th>2</th>\n",
              "      <td>0.758309</td>\n",
              "      <td>0.761694</td>\n",
              "      <td>0.183233</td>\n",
              "      <td>0.543564</td>\n",
              "      <td>0.840091</td>\n",
              "      <td>504</td>\n",
              "      <td>1</td>\n",
              "      <td>0.758309</td>\n",
              "      <td>0.761694</td>\n",
              "      <td>0.183233</td>\n",
              "      <td>0.543564</td>\n",
              "      <td>0.840091</td>\n",
              "      <td>504</td>\n",
              "      <td>1</td>\n",
              "    </tr>\n",
              "    <tr>\n",
              "      <th>3</th>\n",
              "      <td>1.502604</td>\n",
              "      <td>0.646009</td>\n",
              "      <td>0.259912</td>\n",
              "      <td>0.000000</td>\n",
              "      <td>0.862759</td>\n",
              "      <td>504</td>\n",
              "      <td>1</td>\n",
              "      <td>1.502604</td>\n",
              "      <td>0.646009</td>\n",
              "      <td>0.259912</td>\n",
              "      <td>0.000000</td>\n",
              "      <td>0.862759</td>\n",
              "      <td>504</td>\n",
              "      <td>1</td>\n",
              "    </tr>\n",
              "    <tr>\n",
              "      <th>4</th>\n",
              "      <td>0.786768</td>\n",
              "      <td>0.848084</td>\n",
              "      <td>0.138147</td>\n",
              "      <td>0.448864</td>\n",
              "      <td>0.815127</td>\n",
              "      <td>504</td>\n",
              "      <td>1</td>\n",
              "      <td>0.786768</td>\n",
              "      <td>0.848084</td>\n",
              "      <td>0.138147</td>\n",
              "      <td>0.448864</td>\n",
              "      <td>0.815127</td>\n",
              "      <td>504</td>\n",
              "      <td>1</td>\n",
              "    </tr>\n",
              "    <tr>\n",
              "      <th>...</th>\n",
              "      <td>...</td>\n",
              "      <td>...</td>\n",
              "      <td>...</td>\n",
              "      <td>...</td>\n",
              "      <td>...</td>\n",
              "      <td>...</td>\n",
              "      <td>...</td>\n",
              "      <td>...</td>\n",
              "      <td>...</td>\n",
              "      <td>...</td>\n",
              "      <td>...</td>\n",
              "      <td>...</td>\n",
              "      <td>...</td>\n",
              "      <td>...</td>\n",
              "    </tr>\n",
              "    <tr>\n",
              "      <th>241</th>\n",
              "      <td>1.172619</td>\n",
              "      <td>0.714910</td>\n",
              "      <td>0.277022</td>\n",
              "      <td>0.000000</td>\n",
              "      <td>0.861161</td>\n",
              "      <td>504</td>\n",
              "      <td>0</td>\n",
              "      <td>1.172619</td>\n",
              "      <td>0.714910</td>\n",
              "      <td>0.277022</td>\n",
              "      <td>0.000000</td>\n",
              "      <td>0.861161</td>\n",
              "      <td>504</td>\n",
              "      <td>0</td>\n",
              "    </tr>\n",
              "    <tr>\n",
              "      <th>242</th>\n",
              "      <td>1.349702</td>\n",
              "      <td>0.756255</td>\n",
              "      <td>0.314151</td>\n",
              "      <td>0.000000</td>\n",
              "      <td>0.872359</td>\n",
              "      <td>504</td>\n",
              "      <td>0</td>\n",
              "      <td>1.349702</td>\n",
              "      <td>0.756255</td>\n",
              "      <td>0.314151</td>\n",
              "      <td>0.000000</td>\n",
              "      <td>0.872359</td>\n",
              "      <td>504</td>\n",
              "      <td>0</td>\n",
              "    </tr>\n",
              "    <tr>\n",
              "      <th>243</th>\n",
              "      <td>0.209697</td>\n",
              "      <td>0.455732</td>\n",
              "      <td>0.520447</td>\n",
              "      <td>0.661976</td>\n",
              "      <td>0.902344</td>\n",
              "      <td>504</td>\n",
              "      <td>0</td>\n",
              "      <td>0.209697</td>\n",
              "      <td>0.455732</td>\n",
              "      <td>0.520447</td>\n",
              "      <td>0.661976</td>\n",
              "      <td>0.902344</td>\n",
              "      <td>504</td>\n",
              "      <td>0</td>\n",
              "    </tr>\n",
              "    <tr>\n",
              "      <th>244</th>\n",
              "      <td>1.307230</td>\n",
              "      <td>0.617324</td>\n",
              "      <td>0.243966</td>\n",
              "      <td>0.000000</td>\n",
              "      <td>0.844226</td>\n",
              "      <td>504</td>\n",
              "      <td>0</td>\n",
              "      <td>1.307230</td>\n",
              "      <td>0.617324</td>\n",
              "      <td>0.243966</td>\n",
              "      <td>0.000000</td>\n",
              "      <td>0.844226</td>\n",
              "      <td>504</td>\n",
              "      <td>0</td>\n",
              "    </tr>\n",
              "    <tr>\n",
              "      <th>245</th>\n",
              "      <td>1.233879</td>\n",
              "      <td>0.751610</td>\n",
              "      <td>0.289939</td>\n",
              "      <td>0.000000</td>\n",
              "      <td>0.868715</td>\n",
              "      <td>504</td>\n",
              "      <td>0</td>\n",
              "      <td>1.233879</td>\n",
              "      <td>0.751610</td>\n",
              "      <td>0.289939</td>\n",
              "      <td>0.000000</td>\n",
              "      <td>0.868715</td>\n",
              "      <td>504</td>\n",
              "      <td>0</td>\n",
              "    </tr>\n",
              "  </tbody>\n",
              "</table>\n",
              "<p>246 rows × 14 columns</p>\n",
              "</div>"
            ],
            "text/plain": [
              "     contrast  corelation    energy  ...  homogenity  mean  Target\n",
              "0    1.050471    0.874184  0.165066  ...    0.828313   504       1\n",
              "1    2.265129    0.737668  0.089364  ...    0.750672   504       1\n",
              "2    0.758309    0.761694  0.183233  ...    0.840091   504       1\n",
              "3    1.502604    0.646009  0.259912  ...    0.862759   504       1\n",
              "4    0.786768    0.848084  0.138147  ...    0.815127   504       1\n",
              "..        ...         ...       ...  ...         ...   ...     ...\n",
              "241  1.172619    0.714910  0.277022  ...    0.861161   504       0\n",
              "242  1.349702    0.756255  0.314151  ...    0.872359   504       0\n",
              "243  0.209697    0.455732  0.520447  ...    0.902344   504       0\n",
              "244  1.307230    0.617324  0.243966  ...    0.844226   504       0\n",
              "245  1.233879    0.751610  0.289939  ...    0.868715   504       0\n",
              "\n",
              "[246 rows x 14 columns]"
            ]
          },
          "metadata": {
            "tags": []
          },
          "execution_count": 63
        }
      ]
    },
    {
      "cell_type": "code",
      "metadata": {
        "id": "N5-netQeXAac",
        "colab_type": "code",
        "colab": {}
      },
      "source": [
        "final_df =final_df.loc[:,~final_df.columns.duplicated()]"
      ],
      "execution_count": 0,
      "outputs": []
    },
    {
      "cell_type": "code",
      "metadata": {
        "id": "X4AnZkpnXCil",
        "colab_type": "code",
        "outputId": "26a3a8b8-02e5-4aeb-b9e0-436303452bb9",
        "colab": {
          "base_uri": "https://localhost:8080/",
          "height": 34
        }
      },
      "source": [
        "final_df.shape"
      ],
      "execution_count": 0,
      "outputs": [
        {
          "output_type": "execute_result",
          "data": {
            "text/plain": [
              "(246, 7)"
            ]
          },
          "metadata": {
            "tags": []
          },
          "execution_count": 65
        }
      ]
    },
    {
      "cell_type": "code",
      "metadata": {
        "id": "TJgVUq90XXQM",
        "colab_type": "code",
        "colab": {}
      },
      "source": [
        "df_Train=final_df.iloc[:1460,:]\n",
        "df_Test=final_df.iloc[1460:,:]"
      ],
      "execution_count": 0,
      "outputs": []
    },
    {
      "cell_type": "code",
      "metadata": {
        "id": "eSBO_AN-YdmG",
        "colab_type": "code",
        "outputId": "99d417fa-a75e-4cde-a1ed-d1dcf2658404",
        "colab": {
          "base_uri": "https://localhost:8080/",
          "height": 34
        }
      },
      "source": [
        "df_Train.shape"
      ],
      "execution_count": 0,
      "outputs": [
        {
          "output_type": "execute_result",
          "data": {
            "text/plain": [
              "(246, 7)"
            ]
          },
          "metadata": {
            "tags": []
          },
          "execution_count": 67
        }
      ]
    },
    {
      "cell_type": "code",
      "metadata": {
        "id": "S3HQ1ayEtM63",
        "colab_type": "code",
        "outputId": "9ad94c84-2d3e-424c-9f41-63ef5a745c29",
        "colab": {
          "base_uri": "https://localhost:8080/",
          "height": 204
        }
      },
      "source": [
        "df_Train.head()"
      ],
      "execution_count": 0,
      "outputs": [
        {
          "output_type": "execute_result",
          "data": {
            "text/html": [
              "<div>\n",
              "<style scoped>\n",
              "    .dataframe tbody tr th:only-of-type {\n",
              "        vertical-align: middle;\n",
              "    }\n",
              "\n",
              "    .dataframe tbody tr th {\n",
              "        vertical-align: top;\n",
              "    }\n",
              "\n",
              "    .dataframe thead th {\n",
              "        text-align: right;\n",
              "    }\n",
              "</style>\n",
              "<table border=\"1\" class=\"dataframe\">\n",
              "  <thead>\n",
              "    <tr style=\"text-align: right;\">\n",
              "      <th></th>\n",
              "      <th>contrast</th>\n",
              "      <th>corelation</th>\n",
              "      <th>energy</th>\n",
              "      <th>entropy</th>\n",
              "      <th>homogenity</th>\n",
              "      <th>mean</th>\n",
              "      <th>Target</th>\n",
              "    </tr>\n",
              "  </thead>\n",
              "  <tbody>\n",
              "    <tr>\n",
              "      <th>0</th>\n",
              "      <td>1.050471</td>\n",
              "      <td>0.874184</td>\n",
              "      <td>0.165066</td>\n",
              "      <td>0.000000</td>\n",
              "      <td>0.828313</td>\n",
              "      <td>504</td>\n",
              "      <td>1</td>\n",
              "    </tr>\n",
              "    <tr>\n",
              "      <th>1</th>\n",
              "      <td>2.265129</td>\n",
              "      <td>0.737668</td>\n",
              "      <td>0.089364</td>\n",
              "      <td>0.000000</td>\n",
              "      <td>0.750672</td>\n",
              "      <td>504</td>\n",
              "      <td>1</td>\n",
              "    </tr>\n",
              "    <tr>\n",
              "      <th>2</th>\n",
              "      <td>0.758309</td>\n",
              "      <td>0.761694</td>\n",
              "      <td>0.183233</td>\n",
              "      <td>0.543564</td>\n",
              "      <td>0.840091</td>\n",
              "      <td>504</td>\n",
              "      <td>1</td>\n",
              "    </tr>\n",
              "    <tr>\n",
              "      <th>3</th>\n",
              "      <td>1.502604</td>\n",
              "      <td>0.646009</td>\n",
              "      <td>0.259912</td>\n",
              "      <td>0.000000</td>\n",
              "      <td>0.862759</td>\n",
              "      <td>504</td>\n",
              "      <td>1</td>\n",
              "    </tr>\n",
              "    <tr>\n",
              "      <th>4</th>\n",
              "      <td>0.786768</td>\n",
              "      <td>0.848084</td>\n",
              "      <td>0.138147</td>\n",
              "      <td>0.448864</td>\n",
              "      <td>0.815127</td>\n",
              "      <td>504</td>\n",
              "      <td>1</td>\n",
              "    </tr>\n",
              "  </tbody>\n",
              "</table>\n",
              "</div>"
            ],
            "text/plain": [
              "   contrast  corelation    energy   entropy  homogenity  mean  Target\n",
              "0  1.050471    0.874184  0.165066  0.000000    0.828313   504       1\n",
              "1  2.265129    0.737668  0.089364  0.000000    0.750672   504       1\n",
              "2  0.758309    0.761694  0.183233  0.543564    0.840091   504       1\n",
              "3  1.502604    0.646009  0.259912  0.000000    0.862759   504       1\n",
              "4  0.786768    0.848084  0.138147  0.448864    0.815127   504       1"
            ]
          },
          "metadata": {
            "tags": []
          },
          "execution_count": 68
        }
      ]
    },
    {
      "cell_type": "code",
      "metadata": {
        "id": "WZBIwCmXsNru",
        "colab_type": "code",
        "colab": {}
      },
      "source": [
        "#actual code "
      ],
      "execution_count": 0,
      "outputs": []
    },
    {
      "cell_type": "code",
      "metadata": {
        "id": "-OkvAgThsMkt",
        "colab_type": "code",
        "colab": {}
      },
      "source": [
        "from sklearn.model_selection import train_test_split\n",
        "X = df_Train.drop(['energy'], axis=1)\n",
        "y = df_Train['energy']\n",
        "X_train, X_test, y_train, y_test = train_test_split(X, y, test_size = 0.22, random_state = 5)"
      ],
      "execution_count": 0,
      "outputs": []
    },
    {
      "cell_type": "code",
      "metadata": {
        "id": "CMdwAu3e2me6",
        "colab_type": "code",
        "colab": {}
      },
      "source": [
        "import xgboost"
      ],
      "execution_count": 0,
      "outputs": []
    },
    {
      "cell_type": "code",
      "metadata": {
        "id": "AiwHKPTA2a7o",
        "colab_type": "code",
        "colab": {}
      },
      "source": [
        "n_estimators = [100, 500, 900, 1100, 1500]\n",
        "max_depth = [2, 3, 5, 10, 15]\n",
        "booster = ['gbtree', 'gblinear']\n",
        "base_score = [0.25, 0.5, 0.75, 1]\n",
        "learning_rate = [0.05, 0.1, 0.15, 0.20]\n",
        "min_child_weight = [1, 2, 3, 4]\n",
        "\n",
        "# Define the grid of hyperparameters to search\n",
        "hyperparameter_grid = {\n",
        "    'n_estimators': n_estimators,\n",
        "    'max_depth': max_depth,\n",
        "    'learning_rate' : learning_rate,\n",
        "    'min_child_weight' : min_child_weight,\n",
        "    'booster' : booster,\n",
        "    'base_score' : base_score\n",
        "    }"
      ],
      "execution_count": 0,
      "outputs": []
    },
    {
      "cell_type": "code",
      "metadata": {
        "id": "uZYVf1JV2tuG",
        "colab_type": "code",
        "colab": {}
      },
      "source": [
        "regressor = xgboost.XGBRegressor(base_score=0.25, \n",
        "                                 booster='gbtree', \n",
        "                                 learning_rate=0.1, \n",
        "                                 max_delta_step=0,\n",
        "                                 max_depth=2, \n",
        "                                 min_child_weight=1, \n",
        "                                 n_estimators=900,\n",
        "                                 verbosity=1)"
      ],
      "execution_count": 0,
      "outputs": []
    },
    {
      "cell_type": "code",
      "metadata": {
        "id": "-Mjtj7we2yeu",
        "colab_type": "code",
        "outputId": "30a65ca1-46cf-41cc-f4a3-1747c00be108",
        "colab": {
          "base_uri": "https://localhost:8080/",
          "height": 173
        }
      },
      "source": [
        "regressor.fit(X_train, y_train)"
      ],
      "execution_count": 0,
      "outputs": [
        {
          "output_type": "stream",
          "text": [
            "[06:01:47] WARNING: /workspace/src/objective/regression_obj.cu:152: reg:linear is now deprecated in favor of reg:squarederror.\n"
          ],
          "name": "stdout"
        },
        {
          "output_type": "execute_result",
          "data": {
            "text/plain": [
              "XGBRegressor(base_score=0.25, booster='gbtree', colsample_bylevel=1,\n",
              "             colsample_bynode=1, colsample_bytree=1, gamma=0,\n",
              "             importance_type='gain', learning_rate=0.1, max_delta_step=0,\n",
              "             max_depth=2, min_child_weight=1, missing=None, n_estimators=900,\n",
              "             n_jobs=1, nthread=None, objective='reg:linear', random_state=0,\n",
              "             reg_alpha=0, reg_lambda=1, scale_pos_weight=1, seed=None,\n",
              "             silent=None, subsample=1, verbosity=1)"
            ]
          },
          "metadata": {
            "tags": []
          },
          "execution_count": 75
        }
      ]
    },
    {
      "cell_type": "code",
      "metadata": {
        "id": "lstYuT6_28DO",
        "colab_type": "code",
        "colab": {}
      },
      "source": [
        "y_pred = regressor.predict(X_test)\n",
        "pred = pd.DataFrame(y_pred)"
      ],
      "execution_count": 0,
      "outputs": []
    },
    {
      "cell_type": "code",
      "metadata": {
        "id": "MBhDCc9z5Jot",
        "colab_type": "code",
        "outputId": "f06eb7e2-5e9d-4f73-b122-10fe20371cd0",
        "colab": {
          "base_uri": "https://localhost:8080/",
          "height": 34
        }
      },
      "source": [
        "type(pred)"
      ],
      "execution_count": 0,
      "outputs": [
        {
          "output_type": "execute_result",
          "data": {
            "text/plain": [
              "pandas.core.frame.DataFrame"
            ]
          },
          "metadata": {
            "tags": []
          },
          "execution_count": 77
        }
      ]
    },
    {
      "cell_type": "code",
      "metadata": {
        "id": "FPV4gFve3D3G",
        "colab_type": "code",
        "outputId": "75685fc2-1701-4a9f-d14d-dfcffb456c55",
        "colab": {
          "base_uri": "https://localhost:8080/",
          "height": 34
        }
      },
      "source": [
        "type(regressor)"
      ],
      "execution_count": 0,
      "outputs": [
        {
          "output_type": "execute_result",
          "data": {
            "text/plain": [
              "xgboost.sklearn.XGBRegressor"
            ]
          },
          "metadata": {
            "tags": []
          },
          "execution_count": 78
        }
      ]
    },
    {
      "cell_type": "code",
      "metadata": {
        "id": "0o0R2AR94mZ1",
        "colab_type": "code",
        "outputId": "60b5d037-d41b-4a8d-a37b-633bcd821244",
        "colab": {
          "base_uri": "https://localhost:8080/",
          "height": 34
        }
      },
      "source": [
        "type(y_test)"
      ],
      "execution_count": 0,
      "outputs": [
        {
          "output_type": "execute_result",
          "data": {
            "text/plain": [
              "pandas.core.series.Series"
            ]
          },
          "metadata": {
            "tags": []
          },
          "execution_count": 79
        }
      ]
    },
    {
      "cell_type": "code",
      "metadata": {
        "id": "vtMGbXgI8GvU",
        "colab_type": "code",
        "colab": {}
      },
      "source": [
        "#https://www.kaggle.com/c/titanic/data"
      ],
      "execution_count": 0,
      "outputs": []
    },
    {
      "cell_type": "code",
      "metadata": {
        "id": "3mtMR7Ow8ICp",
        "colab_type": "code",
        "outputId": "adc93ade-fa3d-47ff-f3bf-32249d9ebbfb",
        "colab": {
          "base_uri": "https://localhost:8080/",
          "height": 34
        }
      },
      "source": [
        "type(y_pred)"
      ],
      "execution_count": 0,
      "outputs": [
        {
          "output_type": "execute_result",
          "data": {
            "text/plain": [
              "numpy.ndarray"
            ]
          },
          "metadata": {
            "tags": []
          },
          "execution_count": 80
        }
      ]
    },
    {
      "cell_type": "code",
      "metadata": {
        "id": "NWsoQ6zGlhec",
        "colab_type": "code",
        "colab": {}
      },
      "source": [
        "a = y_test.to_numpy()"
      ],
      "execution_count": 0,
      "outputs": []
    },
    {
      "cell_type": "code",
      "metadata": {
        "id": "5mxgQ5bJmTuz",
        "colab_type": "code",
        "outputId": "67bffbd1-720e-4c39-d25f-f81ca4a08bd2",
        "colab": {
          "base_uri": "https://localhost:8080/",
          "height": 34
        }
      },
      "source": [
        "type(a)"
      ],
      "execution_count": 0,
      "outputs": [
        {
          "output_type": "execute_result",
          "data": {
            "text/plain": [
              "numpy.ndarray"
            ]
          },
          "metadata": {
            "tags": []
          },
          "execution_count": 82
        }
      ]
    },
    {
      "cell_type": "code",
      "metadata": {
        "id": "rLinZ6__nD4E",
        "colab_type": "code",
        "colab": {}
      },
      "source": [
        "##Best possible score is 1.0 and it can be negative (because the model can be arbitrarily worse). A constant model that always predicts the expected value of y, disregarding the input features, would get a R^2 score of 0.0."
      ],
      "execution_count": 0,
      "outputs": []
    },
    {
      "cell_type": "code",
      "metadata": {
        "id": "uNUOo4-TmV4C",
        "colab_type": "code",
        "outputId": "56857d20-7f13-4cc3-f29c-fc61ff04301c",
        "colab": {
          "base_uri": "https://localhost:8080/",
          "height": 34
        }
      },
      "source": [
        "import sklearn\n",
        "sklearn.metrics.r2_score(a, y_pred)"
      ],
      "execution_count": 0,
      "outputs": [
        {
          "output_type": "execute_result",
          "data": {
            "text/plain": [
              "0.733831191303332"
            ]
          },
          "metadata": {
            "tags": []
          },
          "execution_count": 83
        }
      ]
    }
  ]
}